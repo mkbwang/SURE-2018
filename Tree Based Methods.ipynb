{
 "cells": [
  {
   "cell_type": "markdown",
   "metadata": {},
   "source": [
    "# Tree Based Methods\n",
    "Random forest and adaboost."
   ]
  },
  {
   "cell_type": "code",
   "execution_count": 1,
   "metadata": {},
   "outputs": [],
   "source": [
    "import pandas as pd\n",
    "import numpy as np\n",
    "import matplotlib.pyplot as plt\n",
    "from sklearn.metrics import roc_auc_score as roc\n",
    "from sklearn.metrics import roc_curve\n",
    "from sklearn.model_selection import train_test_split\n",
    "from sklearn.ensemble import RandomForestClassifier\n",
    "from sklearn.model_selection import GridSearchCV\n",
    "from sklearn.ensemble import AdaBoostClassifier\n",
    "import seaborn as sns"
   ]
  },
  {
   "cell_type": "code",
   "execution_count": 2,
   "metadata": {},
   "outputs": [],
   "source": [
    "from sklearn.tree import DecisionTreeClassifier"
   ]
  },
  {
   "cell_type": "code",
   "execution_count": 3,
   "metadata": {},
   "outputs": [],
   "source": [
    "from matplotlib.backends.backend_pdf import PdfPages"
   ]
  },
  {
   "cell_type": "code",
   "execution_count": 4,
   "metadata": {},
   "outputs": [],
   "source": [
    "alldata = pd.read_csv('/home/wangmk/UM/Research/SURE/cleaned_data/full_cleaned_data.csv')\n",
    "alldata['Agree'] = ~(alldata['True_state']^alldata['Alert'])"
   ]
  },
  {
   "cell_type": "code",
   "execution_count": 6,
   "metadata": {},
   "outputs": [
    {
     "name": "stdout",
     "output_type": "stream",
     "text": [
      "<class 'pandas.core.frame.DataFrame'>\n",
      "RangeIndex: 4000 entries, 0 to 3999\n",
      "Data columns (total 17 columns):\n",
      "Trial                 4000 non-null int64\n",
      "True_state            4000 non-null bool\n",
      "Alert                 4000 non-null bool\n",
      "Identification        4000 non-null bool\n",
      "First_toggle_time     4000 non-null int64\n",
      "RMS                   4000 non-null float64\n",
      "Attention             4000 non-null float64\n",
      "Click                 4000 non-null int64\n",
      "Top_Left_Enemy        4000 non-null bool\n",
      "Top_Right_Enemy       4000 non-null bool\n",
      "Bottom_Left_Enemy     4000 non-null bool\n",
      "Bottom_Right_Enemy    4000 non-null bool\n",
      "Top_Left_Dark         4000 non-null bool\n",
      "Top_Right_Dark        4000 non-null bool\n",
      "Bottom_Left_Dark      4000 non-null bool\n",
      "Bottom_Right_Dark     4000 non-null bool\n",
      "Agree                 4000 non-null bool\n",
      "dtypes: bool(12), float64(2), int64(3)\n",
      "memory usage: 203.2 KB\n"
     ]
    }
   ],
   "source": [
    "alldata.info()"
   ]
  },
  {
   "cell_type": "code",
   "execution_count": 7,
   "metadata": {},
   "outputs": [],
   "source": [
    "abnormal = alldata[alldata['RMS']>60]\n",
    "normal = alldata[alldata['RMS']<=60]"
   ]
  },
  {
   "cell_type": "code",
   "execution_count": 36,
   "metadata": {},
   "outputs": [],
   "source": [
    "newdata = abnormal.append(normal.sample(n=160,random_state=2000))\n",
    "newdata['performance'] = newdata['RMS'] <= 60"
   ]
  },
  {
   "cell_type": "code",
   "execution_count": 37,
   "metadata": {},
   "outputs": [],
   "source": [
    "X = newdata.drop(['RMS','performance'],axis=1)\n",
    "y = newdata['performance']"
   ]
  },
  {
   "cell_type": "code",
   "execution_count": 47,
   "metadata": {},
   "outputs": [],
   "source": [
    "accuracy = []\n",
    "auc = []\n",
    "importance = pd.DataFrame(columns = X.columns)"
   ]
  },
  {
   "cell_type": "code",
   "execution_count": 48,
   "metadata": {},
   "outputs": [],
   "source": [
    "states = np.arange(15,30)"
   ]
  },
  {
   "cell_type": "code",
   "execution_count": 49,
   "metadata": {},
   "outputs": [],
   "source": [
    "for state in states:\n",
    "    X_train, X_test, y_train, y_test = train_test_split(X,y, test_size = 0.3, random_state=state,stratify=y)\n",
    "    rf = RandomForestClassifier()\n",
    "    searcher = GridSearchCV(rf, {'n_estimators':[10,30,50,100,200],'max_features':[3,4,5,6]})\n",
    "    searcher.fit(X_train, y_train)\n",
    "    importance.loc[state,] = searcher.best_estimator_.feature_importances_\n",
    "    y_pred = searcher.predict(X_test)\n",
    "    accuracy.append(np.sum(y_pred==y_test)/len(y_pred))\n",
    "    y_pred_prob = searcher.predict_proba(X_test)[:,1]\n",
    "    auc.append(roc(y_test,y_pred_prob))"
   ]
  },
  {
   "cell_type": "code",
   "execution_count": 50,
   "metadata": {},
   "outputs": [
    {
     "name": "stdout",
     "output_type": "stream",
     "text": [
      "accuracy mean:  0.7020833333333333\n",
      "auc mean:  0.781394675925926\n",
      "accuracy median:  0.7083333333333334\n",
      "auc median:  0.7821180555555556\n"
     ]
    }
   ],
   "source": [
    "print('accuracy mean: ',np.mean(accuracy))\n",
    "print('auc mean: ',np.mean(auc))\n",
    "print('accuracy median: ',np.median(accuracy))\n",
    "print('auc median: ',np.median(auc))"
   ]
  },
  {
   "cell_type": "code",
   "execution_count": 51,
   "metadata": {},
   "outputs": [
    {
     "data": {
      "text/plain": [
       "[0.7921006944444445,\n",
       " 0.748263888888889,\n",
       " 0.7404513888888888,\n",
       " 0.783203125,\n",
       " 0.8315972222222223,\n",
       " 0.7623697916666666,\n",
       " 0.7821180555555556,\n",
       " 0.787326388888889,\n",
       " 0.7408854166666666,\n",
       " 0.8077256944444444,\n",
       " 0.7664930555555556,\n",
       " 0.8430989583333333,\n",
       " 0.7571614583333334,\n",
       " 0.7671440972222221,\n",
       " 0.8109809027777779]"
      ]
     },
     "execution_count": 51,
     "metadata": {},
     "output_type": "execute_result"
    }
   ],
   "source": [
    "auc"
   ]
  },
  {
   "cell_type": "code",
   "execution_count": 54,
   "metadata": {},
   "outputs": [],
   "source": [
    "conclusion = importance.apply(np.mean)"
   ]
  },
  {
   "cell_type": "code",
   "execution_count": 61,
   "metadata": {},
   "outputs": [
    {
     "data": {
      "text/html": [
       "<div>\n",
       "<style scoped>\n",
       "    .dataframe tbody tr th:only-of-type {\n",
       "        vertical-align: middle;\n",
       "    }\n",
       "\n",
       "    .dataframe tbody tr th {\n",
       "        vertical-align: top;\n",
       "    }\n",
       "\n",
       "    .dataframe thead th {\n",
       "        text-align: right;\n",
       "    }\n",
       "</style>\n",
       "<table border=\"1\" class=\"dataframe\">\n",
       "  <thead>\n",
       "    <tr style=\"text-align: right;\">\n",
       "      <th></th>\n",
       "      <th>Importance</th>\n",
       "    </tr>\n",
       "  </thead>\n",
       "  <tbody>\n",
       "    <tr>\n",
       "      <th>Bottom_Left_Enemy</th>\n",
       "      <td>0.002990</td>\n",
       "    </tr>\n",
       "    <tr>\n",
       "      <th>Bottom_Right_Enemy</th>\n",
       "      <td>0.007159</td>\n",
       "    </tr>\n",
       "    <tr>\n",
       "      <th>Top_Right_Enemy</th>\n",
       "      <td>0.010781</td>\n",
       "    </tr>\n",
       "    <tr>\n",
       "      <th>Top_Left_Enemy</th>\n",
       "      <td>0.011291</td>\n",
       "    </tr>\n",
       "    <tr>\n",
       "      <th>Identification</th>\n",
       "      <td>0.012781</td>\n",
       "    </tr>\n",
       "    <tr>\n",
       "      <th>True_state</th>\n",
       "      <td>0.013992</td>\n",
       "    </tr>\n",
       "    <tr>\n",
       "      <th>Agree</th>\n",
       "      <td>0.020608</td>\n",
       "    </tr>\n",
       "    <tr>\n",
       "      <th>Top_Left_Dark</th>\n",
       "      <td>0.022122</td>\n",
       "    </tr>\n",
       "    <tr>\n",
       "      <th>Alert</th>\n",
       "      <td>0.023842</td>\n",
       "    </tr>\n",
       "    <tr>\n",
       "      <th>Bottom_Right_Dark</th>\n",
       "      <td>0.026205</td>\n",
       "    </tr>\n",
       "    <tr>\n",
       "      <th>Bottom_Left_Dark</th>\n",
       "      <td>0.026496</td>\n",
       "    </tr>\n",
       "    <tr>\n",
       "      <th>Top_Right_Dark</th>\n",
       "      <td>0.027845</td>\n",
       "    </tr>\n",
       "    <tr>\n",
       "      <th>Click</th>\n",
       "      <td>0.084048</td>\n",
       "    </tr>\n",
       "    <tr>\n",
       "      <th>First_toggle_time</th>\n",
       "      <td>0.158104</td>\n",
       "    </tr>\n",
       "    <tr>\n",
       "      <th>Trial</th>\n",
       "      <td>0.210189</td>\n",
       "    </tr>\n",
       "    <tr>\n",
       "      <th>Attention</th>\n",
       "      <td>0.341547</td>\n",
       "    </tr>\n",
       "  </tbody>\n",
       "</table>\n",
       "</div>"
      ],
      "text/plain": [
       "                    Importance\n",
       "Bottom_Left_Enemy     0.002990\n",
       "Bottom_Right_Enemy    0.007159\n",
       "Top_Right_Enemy       0.010781\n",
       "Top_Left_Enemy        0.011291\n",
       "Identification        0.012781\n",
       "True_state            0.013992\n",
       "Agree                 0.020608\n",
       "Top_Left_Dark         0.022122\n",
       "Alert                 0.023842\n",
       "Bottom_Right_Dark     0.026205\n",
       "Bottom_Left_Dark      0.026496\n",
       "Top_Right_Dark        0.027845\n",
       "Click                 0.084048\n",
       "First_toggle_time     0.158104\n",
       "Trial                 0.210189\n",
       "Attention             0.341547"
      ]
     },
     "execution_count": 61,
     "metadata": {},
     "output_type": "execute_result"
    }
   ],
   "source": [
    "conclusion.sort_values('Importance')"
   ]
  },
  {
   "cell_type": "code",
   "execution_count": 58,
   "metadata": {},
   "outputs": [],
   "source": [
    "conclusion = pd.DataFrame(conclusion,columns=['Importance'])"
   ]
  },
  {
   "cell_type": "code",
   "execution_count": 67,
   "metadata": {},
   "outputs": [],
   "source": [
    "X_train, X_test, y_train, y_test = train_test_split(X,y, test_size = 0.3, random_state=30,stratify=y)\n",
    "rf = RandomForestClassifier(n_estimators=1000, n_jobs=-1)\n",
    "rf.fit(X_train, y_train)\n",
    "y_pred = rf.predict(X_test)\n",
    "accuracy = np.sum(y_pred==y_test)/len(y_pred)\n",
    "y_pred_prob = rf.predict_proba(X_test)[:,1]\n",
    "fpr, tpr, thresholds = roc_curve(y_test, y_pred_prob)"
   ]
  },
  {
   "cell_type": "code",
   "execution_count": 68,
   "metadata": {},
   "outputs": [
    {
     "data": {
      "text/plain": [
       "0.71875"
      ]
     },
     "execution_count": 68,
     "metadata": {},
     "output_type": "execute_result"
    }
   ],
   "source": [
    "accuracy"
   ]
  },
  {
   "cell_type": "code",
   "execution_count": 69,
   "metadata": {},
   "outputs": [],
   "source": [
    "outcome = pd.DataFrame({'pred':y_pred,'y_test':y_test})"
   ]
  },
  {
   "cell_type": "code",
   "execution_count": 70,
   "metadata": {},
   "outputs": [
    {
     "data": {
      "text/plain": [
       "48"
      ]
     },
     "execution_count": 70,
     "metadata": {},
     "output_type": "execute_result"
    }
   ],
   "source": [
    "np.sum(outcome['y_test'])"
   ]
  },
  {
   "cell_type": "code",
   "execution_count": 71,
   "metadata": {
    "scrolled": true
   },
   "outputs": [
    {
     "data": {
      "text/plain": [
       "96"
      ]
     },
     "execution_count": 71,
     "metadata": {},
     "output_type": "execute_result"
    }
   ],
   "source": [
    "len(outcome)"
   ]
  },
  {
   "cell_type": "code",
   "execution_count": 72,
   "metadata": {},
   "outputs": [
    {
     "data": {
      "image/png": "[encoded data removed]",
      "text/plain": [
       "<matplotlib.figure.Figure at 0x7ffa1402bc18>"
      ]
     },
     "metadata": {},
     "output_type": "display_data"
    }
   ],
   "source": [
    "pp = PdfPages('Sample_ROC_rf.pdf')\n",
    "sns.set()\n",
    "plt.plot([0, 1], [0, 1], 'k--')\n",
    "plt.plot(fpr, tpr)\n",
    "plt.xlabel('False Positive Rate')\n",
    "plt.ylabel('True Positive Rate')\n",
    "plt.title('ROC Curve')\n",
    "plt.savefig(pp,format='pdf')\n",
    "pp.close()"
   ]
  },
  {
   "cell_type": "code",
   "execution_count": 73,
   "metadata": {},
   "outputs": [
    {
     "data": {
      "text/plain": [
       "0.78515625"
      ]
     },
     "execution_count": 73,
     "metadata": {},
     "output_type": "execute_result"
    }
   ],
   "source": [
    "roc(y_test, y_pred_prob)"
   ]
  },
  {
   "cell_type": "code",
   "execution_count": 29,
   "metadata": {},
   "outputs": [],
   "source": [
    "accuracy = []\n",
    "auc = []"
   ]
  },
  {
   "cell_type": "code",
   "execution_count": 30,
   "metadata": {},
   "outputs": [],
   "source": [
    "for state in states:\n",
    "    X_train, X_test, y_train, y_test = train_test_split(X,y, test_size = 0.3, random_state=state,stratify=y)\n",
    "    ada = AdaBoostClassifier(DecisionTreeClassifier(max_depth=10), n_estimators = 100, random_state=1234)\n",
    "    ada.fit(X_train, y_train)\n",
    "    y_pred = ada.predict(X_test)\n",
    "    accuracy.append(np.sum(y_pred==y_test)/len(y_pred))\n",
    "    y_pred_prob = ada.predict_proba(X_test)[:,1]\n",
    "    auc.append(roc(y_test,y_pred_prob))"
   ]
  },
  {
   "cell_type": "code",
   "execution_count": 31,
   "metadata": {},
   "outputs": [
    {
     "data": {
      "text/plain": [
       "0.6673611111111111"
      ]
     },
     "execution_count": 31,
     "metadata": {},
     "output_type": "execute_result"
    }
   ],
   "source": [
    "np.mean(accuracy)"
   ]
  },
  {
   "cell_type": "code",
   "execution_count": 32,
   "metadata": {},
   "outputs": [
    {
     "data": {
      "text/plain": [
       "0.7093894675925924"
      ]
     },
     "execution_count": 32,
     "metadata": {},
     "output_type": "execute_result"
    }
   ],
   "source": [
    "np.mean(auc)"
   ]
  },
  {
   "cell_type": "code",
   "execution_count": 29,
   "metadata": {},
   "outputs": [],
   "source": [
    "X_train, X_test, y_train, y_test = train_test_split(X,y, test_size = 0.3, random_state=30,stratify=y)\n",
    "ada = AdaBoostClassifier(DecisionTreeClassifier(max_depth=10), n_estimators = 100, random_state=1234)\n",
    "ada.fit(X_train, y_train)\n",
    "y_pred = ada.predict(X_test)\n",
    "accuracy = np.sum(y_pred==y_test)/len(y_pred)\n",
    "y_pred_prob = rf.predict_proba(X_test)[:,1]\n",
    "fpr, tpr, thresholds = roc_curve(y_test, y_pred_prob)"
   ]
  },
  {
   "cell_type": "code",
   "execution_count": 34,
   "metadata": {},
   "outputs": [
    {
     "data": {
      "text/plain": [
       "array([4.93722590e-02, 3.27031351e-07, 9.99476953e-01, 9.99875051e-01,\n",
       "       3.10684971e-02, 7.52437182e-03, 9.89586004e-01, 1.00630649e-01,\n",
       "       9.97508023e-01, 9.99999996e-01, 3.12936178e-06, 9.99995257e-01,\n",
       "       9.85344045e-01, 9.99999994e-01, 2.07177162e-01, 5.72266735e-06,\n",
       "       9.99996992e-01, 8.77686189e-02, 4.20342677e-02, 7.36534231e-05,\n",
       "       2.13999200e-04, 9.99603418e-01, 1.40322101e-01, 3.26794204e-05,\n",
       "       3.59144126e-04, 9.99999347e-01, 8.54795173e-01, 9.99999989e-01,\n",
       "       7.76698100e-04, 5.61617738e-01, 9.36953618e-01, 9.99982616e-01,\n",
       "       2.89013163e-06, 9.97323649e-01, 9.99999991e-01, 4.93953455e-02,\n",
       "       9.98652654e-01, 9.80641484e-01, 9.99999715e-01, 8.29841722e-01,\n",
       "       1.59760966e-01, 1.58536430e-05, 1.11912625e-02, 2.45393729e-08,\n",
       "       9.68164964e-01, 9.99999991e-01, 5.17521327e-01, 4.45298854e-09,\n",
       "       1.43066535e-07, 9.91838333e-05, 9.99993233e-01, 3.86695814e-04,\n",
       "       9.99293638e-01, 4.63208229e-06, 2.53023865e-03, 3.20310679e-02,\n",
       "       9.99989450e-01, 2.19099090e-02, 9.99999999e-01, 9.99882129e-01,\n",
       "       7.68484997e-06, 6.59871299e-04, 6.22641672e-05, 9.99999895e-01,\n",
       "       6.67307926e-04, 6.77556703e-04, 9.94754783e-01, 3.82140139e-02,\n",
       "       3.07697993e-01, 8.02007676e-01, 2.07226399e-01, 9.99995163e-01,\n",
       "       4.29077533e-05, 9.98821881e-01, 9.98178888e-01, 4.92925449e-01,\n",
       "       9.35334859e-01, 3.30757209e-02, 9.99999990e-01, 9.79970240e-01,\n",
       "       9.99999431e-01, 9.85240162e-01, 6.14632873e-03, 9.99995292e-01,\n",
       "       9.92540818e-01, 1.45123906e-05, 9.99999422e-01, 2.80997874e-01,\n",
       "       7.69775272e-04, 8.05281414e-01, 9.99998815e-01, 8.32380259e-01,\n",
       "       5.40422058e-03, 9.68349399e-01, 9.96951567e-01, 1.53293517e-05])"
      ]
     },
     "execution_count": 34,
     "metadata": {},
     "output_type": "execute_result"
    }
   ],
   "source": [
    "y_pred_prob"
   ]
  },
  {
   "cell_type": "code",
   "execution_count": 30,
   "metadata": {},
   "outputs": [
    {
     "data": {
      "text/plain": [
       "0.6650717703349283"
      ]
     },
     "execution_count": 30,
     "metadata": {},
     "output_type": "execute_result"
    }
   ],
   "source": [
    "accuracy"
   ]
  },
  {
   "cell_type": "code",
   "execution_count": 31,
   "metadata": {},
   "outputs": [
    {
     "data": {
      "text/plain": [
       "Text(0.5,1,'ROC Curve')"
      ]
     },
     "execution_count": 31,
     "metadata": {},
     "output_type": "execute_result"
    },
    {
     "data": {
      "image/png": "[encoded data removed]",
      "text/plain": [
       "<matplotlib.figure.Figure at 0x7fbc232ed7f0>"
      ]
     },
     "metadata": {},
     "output_type": "display_data"
    }
   ],
   "source": [
    "sns.set()\n",
    "plt.plot([0, 1], [0, 1], 'k--')\n",
    "plt.plot(fpr, tpr)\n",
    "plt.xlabel('False Positive Rate')\n",
    "plt.ylabel('True Positive Rate')\n",
    "plt.title('ROC Curve')"
   ]
  },
  {
   "cell_type": "code",
   "execution_count": 32,
   "metadata": {},
   "outputs": [
    {
     "data": {
      "text/plain": [
       "0.7244505494505495"
      ]
     },
     "execution_count": 32,
     "metadata": {},
     "output_type": "execute_result"
    }
   ],
   "source": [
    "roc(y_test, y_pred_prob)"
   ]
  },
  {
   "cell_type": "code",
   "execution_count": null,
   "metadata": {},
   "outputs": [],
   "source": []
  }
 ],
 "metadata": {
  "kernelspec": {
   "display_name": "Python 3",
   "language": "python",
   "name": "python3"
  },
  "language_info": {
   "codemirror_mode": {
    "name": "ipython",
    "version": 3
   },
   "file_extension": ".py",
   "mimetype": "text/x-python",
   "name": "python",
   "nbconvert_exporter": "python",
   "pygments_lexer": "ipython3",
   "version": "3.6.4"
  }
 },
 "nbformat": 4,
 "nbformat_minor": 2
}

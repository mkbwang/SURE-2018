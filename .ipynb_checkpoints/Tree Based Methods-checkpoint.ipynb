{
 "cells": [
  {
   "cell_type": "markdown",
   "metadata": {},
   "source": [
    "# Tree Based Methods\n",
    "Random forest and adaboost."
   ]
  },
  {
   "cell_type": "code",
   "execution_count": 1,
   "metadata": {},
   "outputs": [],
   "source": [
    "import pandas as pd\n",
    "import numpy as np\n",
    "import matplotlib.pyplot as plt\n",
    "from sklearn.metrics import roc_auc_score as roc\n",
    "from sklearn.metrics import roc_curve\n",
    "from sklearn.model_selection import train_test_split\n",
    "from sklearn.ensemble import RandomForestClassifier\n",
    "from sklearn.model_selection import GridSearchCV\n",
    "from sklearn.ensemble import AdaBoostClassifier\n",
    "import seaborn as sns"
   ]
  },
  {
   "cell_type": "code",
   "execution_count": 2,
   "metadata": {},
   "outputs": [],
   "source": [
    "from sklearn.tree import DecisionTreeClassifier"
   ]
  },
  {
   "cell_type": "code",
   "execution_count": 3,
   "metadata": {},
   "outputs": [],
   "source": [
    "from matplotlib.backends.backend_pdf import PdfPages"
   ]
  },
  {
   "cell_type": "code",
   "execution_count": 4,
   "metadata": {},
   "outputs": [],
   "source": [
    "alldata = pd.read_csv('/home/wangmk/UM/Research/SURE/cleaned_data/full_cleaned_data.csv')\n",
    "alldata['Agree'] = ~(alldata['True_state']^alldata['Alert'])"
   ]
  },
  {
   "cell_type": "code",
   "execution_count": 5,
   "metadata": {},
   "outputs": [
    {
     "name": "stdout",
     "output_type": "stream",
     "text": [
      "<class 'pandas.core.frame.DataFrame'>\n",
      "RangeIndex: 4000 entries, 0 to 3999\n",
      "Data columns (total 17 columns):\n",
      "Trial                 4000 non-null int64\n",
      "True_state            4000 non-null bool\n",
      "Alert                 4000 non-null bool\n",
      "Identification        4000 non-null bool\n",
      "First_toggle_time     4000 non-null int64\n",
      "RMS                   4000 non-null float64\n",
      "Attention             4000 non-null float64\n",
      "Click                 4000 non-null int64\n",
      "Top_Left_Enemy        4000 non-null bool\n",
      "Top_Right_Enemy       4000 non-null bool\n",
      "Bottom_Left_Enemy     4000 non-null bool\n",
      "Bottom_Right_Enemy    4000 non-null bool\n",
      "Top_Left_Dark         4000 non-null bool\n",
      "Top_Right_Dark        4000 non-null bool\n",
      "Bottom_Left_Dark      4000 non-null bool\n",
      "Bottom_Right_Dark     4000 non-null bool\n",
      "Agree                 4000 non-null bool\n",
      "dtypes: bool(12), float64(2), int64(3)\n",
      "memory usage: 203.2 KB\n"
     ]
    }
   ],
   "source": [
    "alldata.info()"
   ]
  },
  {
   "cell_type": "code",
   "execution_count": 6,
   "metadata": {},
   "outputs": [],
   "source": [
    "abnormal = alldata[alldata['RMS']>60]\n",
    "normal = alldata[alldata['RMS']<=60]"
   ]
  },
  {
   "cell_type": "code",
   "execution_count": 11,
   "metadata": {},
   "outputs": [],
   "source": [
    "accuracy = []\n",
    "precision = []\n",
    "recall = []\n",
    "auc = []\n",
    "importance = pd.DataFrame(columns = alldata.drop(['RMS'],axis=1).columns)"
   ]
  },
  {
   "cell_type": "code",
   "execution_count": 12,
   "metadata": {
    "collapsed": true
   },
   "outputs": [
    {
     "name": "stdout",
     "output_type": "stream",
     "text": [
      "0\n",
      "20\n",
      "21\n",
      "22\n",
      "23\n",
      "24\n",
      "25\n",
      "26\n",
      "27\n",
      "28\n",
      "29\n",
      "1\n",
      "20\n",
      "21\n",
      "22\n",
      "23\n",
      "24\n",
      "25\n",
      "26\n",
      "27\n",
      "28\n",
      "29\n",
      "2\n",
      "20\n",
      "21\n",
      "22\n",
      "23\n",
      "24\n",
      "25\n",
      "26\n",
      "27\n",
      "28\n",
      "29\n",
      "3\n",
      "20\n",
      "21\n",
      "22\n",
      "23\n",
      "24\n",
      "25\n",
      "26\n",
      "27\n",
      "28\n",
      "29\n",
      "4\n",
      "20\n",
      "21\n",
      "22\n",
      "23\n",
      "24\n",
      "25\n",
      "26\n",
      "27\n",
      "28\n",
      "29\n",
      "5\n",
      "20\n",
      "21\n",
      "22\n",
      "23\n",
      "24\n",
      "25\n",
      "26\n",
      "27\n",
      "28\n",
      "29\n",
      "6\n",
      "20\n",
      "21\n",
      "22\n",
      "23\n",
      "24\n",
      "25\n",
      "26\n",
      "27\n",
      "28\n",
      "29\n",
      "7\n",
      "20\n",
      "21\n",
      "22\n",
      "23\n",
      "24\n",
      "25\n",
      "26\n",
      "27\n",
      "28\n",
      "29\n",
      "8\n",
      "20\n",
      "21\n",
      "22\n",
      "23\n",
      "24\n",
      "25\n",
      "26\n",
      "27\n",
      "28\n",
      "29\n",
      "9\n",
      "20\n",
      "21\n",
      "22\n",
      "23\n",
      "24\n",
      "25\n",
      "26\n",
      "27\n",
      "28\n",
      "29\n"
     ]
    }
   ],
   "source": [
    "for seed in range(10):\n",
    "    print(seed)\n",
    "    newdata = abnormal.append(normal.sample(n=160,random_state=seed))\n",
    "    newdata['performance'] = newdata['RMS'] <= 60\n",
    "    newdata['First_toggle_time'] = newdata['First_toggle_time']/10000\n",
    "    newdata['Trial'] = newdata['Trial']/100\n",
    "    X = newdata.drop(['RMS','performance'],axis=1)\n",
    "    y = newdata['performance']\n",
    "    for state in np.arange(20,30):\n",
    "        print(state)\n",
    "        X_train, X_test, y_train, y_test = train_test_split(X,y, test_size = 0.3, random_state=state,stratify=y)\n",
    "        rf = RandomForestClassifier()\n",
    "        searcher = GridSearchCV(rf, {'n_estimators':[10,30,50,100,200],'max_features':[3,4,5,6]})\n",
    "        searcher.fit(X_train, y_train)\n",
    "        importance.loc[str(seed)+str(state),] = searcher.best_estimator_.feature_importances_\n",
    "        y_pred = searcher.predict(X_test)\n",
    "        outcome = pd.DataFrame({'Real':y_test, 'Predicted':y_pred})\n",
    "        precision.append(np.sum(outcome['Real'] & outcome['Predicted'])/np.sum(outcome['Predicted']))\n",
    "        recall.append(np.sum(outcome['Real'] & outcome['Predicted'])/np.sum(outcome['Real']))\n",
    "        accuracy.append(np.sum(y_pred==y_test)/len(y_pred))\n",
    "        y_pred_prob = searcher.predict_proba(X_test)[:,1]\n",
    "        auc.append(roc(y_test,y_pred_prob))"
   ]
  },
  {
   "cell_type": "code",
   "execution_count": 33,
   "metadata": {
    "collapsed": true
   },
   "outputs": [],
   "source": [
    "conclusion = pd.DataFrame(importance.apply(np.mean),columns=['Importance'])"
   ]
  },
  {
   "cell_type": "code",
   "execution_count": 30,
   "metadata": {},
   "outputs": [],
   "source": [
    "import pickle"
   ]
  },
  {
   "cell_type": "code",
   "execution_count": 31,
   "metadata": {},
   "outputs": [],
   "source": [
    "outcome = {'accuracy':accuracy,'precision':precision,'recall':recall,'auc':auc}\n",
    "with open('outcome_rf.pkl','wb+') as f:\n",
    "    pickle.dump(outcome,f)"
   ]
  },
  {
   "cell_type": "code",
   "execution_count": 34,
   "metadata": {},
   "outputs": [
    {
     "data": {
      "text/html": [
       "<div>\n",
       "<style scoped>\n",
       "    .dataframe tbody tr th:only-of-type {\n",
       "        vertical-align: middle;\n",
       "    }\n",
       "\n",
       "    .dataframe tbody tr th {\n",
       "        vertical-align: top;\n",
       "    }\n",
       "\n",
       "    .dataframe thead th {\n",
       "        text-align: right;\n",
       "    }\n",
       "</style>\n",
       "<table border=\"1\" class=\"dataframe\">\n",
       "  <thead>\n",
       "    <tr style=\"text-align: right;\">\n",
       "      <th></th>\n",
       "      <th>Importance</th>\n",
       "    </tr>\n",
       "  </thead>\n",
       "  <tbody>\n",
       "    <tr>\n",
       "      <th>Bottom_Right_Enemy</th>\n",
       "      <td>0.006812</td>\n",
       "    </tr>\n",
       "    <tr>\n",
       "      <th>Top_Right_Enemy</th>\n",
       "      <td>0.008848</td>\n",
       "    </tr>\n",
       "    <tr>\n",
       "      <th>Bottom_Left_Enemy</th>\n",
       "      <td>0.009383</td>\n",
       "    </tr>\n",
       "    <tr>\n",
       "      <th>Top_Left_Enemy</th>\n",
       "      <td>0.009985</td>\n",
       "    </tr>\n",
       "    <tr>\n",
       "      <th>Identification</th>\n",
       "      <td>0.013108</td>\n",
       "    </tr>\n",
       "    <tr>\n",
       "      <th>True_state</th>\n",
       "      <td>0.014312</td>\n",
       "    </tr>\n",
       "    <tr>\n",
       "      <th>Agree</th>\n",
       "      <td>0.021016</td>\n",
       "    </tr>\n",
       "    <tr>\n",
       "      <th>Alert</th>\n",
       "      <td>0.021695</td>\n",
       "    </tr>\n",
       "    <tr>\n",
       "      <th>Bottom_Right_Dark</th>\n",
       "      <td>0.024321</td>\n",
       "    </tr>\n",
       "    <tr>\n",
       "      <th>Top_Right_Dark</th>\n",
       "      <td>0.025292</td>\n",
       "    </tr>\n",
       "    <tr>\n",
       "      <th>Top_Left_Dark</th>\n",
       "      <td>0.025524</td>\n",
       "    </tr>\n",
       "    <tr>\n",
       "      <th>Bottom_Left_Dark</th>\n",
       "      <td>0.025770</td>\n",
       "    </tr>\n",
       "    <tr>\n",
       "      <th>Click</th>\n",
       "      <td>0.091243</td>\n",
       "    </tr>\n",
       "    <tr>\n",
       "      <th>First_toggle_time</th>\n",
       "      <td>0.161543</td>\n",
       "    </tr>\n",
       "    <tr>\n",
       "      <th>Trial</th>\n",
       "      <td>0.193333</td>\n",
       "    </tr>\n",
       "    <tr>\n",
       "      <th>Attention</th>\n",
       "      <td>0.347815</td>\n",
       "    </tr>\n",
       "  </tbody>\n",
       "</table>\n",
       "</div>"
      ],
      "text/plain": [
       "                    Importance\n",
       "Bottom_Right_Enemy    0.006812\n",
       "Top_Right_Enemy       0.008848\n",
       "Bottom_Left_Enemy     0.009383\n",
       "Top_Left_Enemy        0.009985\n",
       "Identification        0.013108\n",
       "True_state            0.014312\n",
       "Agree                 0.021016\n",
       "Alert                 0.021695\n",
       "Bottom_Right_Dark     0.024321\n",
       "Top_Right_Dark        0.025292\n",
       "Top_Left_Dark         0.025524\n",
       "Bottom_Left_Dark      0.025770\n",
       "Click                 0.091243\n",
       "First_toggle_time     0.161543\n",
       "Trial                 0.193333\n",
       "Attention             0.347815"
      ]
     },
     "execution_count": 34,
     "metadata": {},
     "output_type": "execute_result"
    }
   ],
   "source": [
    "conclusion.sort_values('Importance')"
   ]
  },
  {
   "cell_type": "code",
   "execution_count": 50,
   "metadata": {},
   "outputs": [
    {
     "data": {
      "text/plain": [
       "<matplotlib.figure.Figure at 0x7facf4edc6d8>"
      ]
     },
     "metadata": {},
     "output_type": "display_data"
    },
    {
     "data": {
      "text/plain": [
       "<matplotlib.figure.Figure at 0x7facf4fbde48>"
      ]
     },
     "metadata": {},
     "output_type": "display_data"
    },
    {
     "data": {
      "image/png": "[encoded data removed]",
      "text/plain": [
       "<matplotlib.figure.Figure at 0x7facf4f7be48>"
      ]
     },
     "metadata": {},
     "output_type": "display_data"
    }
   ],
   "source": [
    "plt.tight_layout()\n",
    "# create dataframe with top 10 by variable importance\n",
    "df= conclusion.sort_values(by = 'Importance', ascending = True)\n",
    "labs = ['Proportion of Attention to Tracking Task','Trial Sequence','Time to first view toggle','Number of Toggle Clicks'\n",
    "        ,'Darkness of Bottom Left Figure','Darkness of Top Left Figure','Darkness of Top Right Figure','Darkness of Bottom Right Figure'\n",
    "        ,\"Alert Type\",\"Whether alert agrees with true state\",\"True State\",\"Identification\",\"Existence of Danger in Top Left Figure\"\n",
    "        ,\"Existence of Danger in Bottom Left Figure\",\"Existence of Danger in Top Right Figure\",\"Existence of Danger in Bottom Right Figure\"]\n",
    "labs.reverse()\n",
    "# plot\n",
    "fig = plt.figure()\n",
    "df.plot.barh(fontsize = 12,figsize = (8,8)).set_yticklabels(labs, rotation=0)\n",
    "plt.xlabel('Importance')\n",
    "plt.ylabel('Feature')\n",
    "plt.title('Variable Importance for Random Forest Classifier')\n",
    "plt.savefig(\"VarImpPlot.png\",bbox_inches='tight')"
   ]
  },
  {
   "cell_type": "code",
   "execution_count": 32,
   "metadata": {},
   "outputs": [],
   "source": [
    "importance.to_csv('/home/wangmk/UM/Research/SURE/cleaned_data/importance_rf.csv')"
   ]
  }
 ],
 "metadata": {
  "kernelspec": {
   "display_name": "Python 3",
   "language": "python",
   "name": "python3"
  },
  "language_info": {
   "codemirror_mode": {
    "name": "ipython",
    "version": 3
   },
   "file_extension": ".py",
   "mimetype": "text/x-python",
   "name": "python",
   "nbconvert_exporter": "python",
   "pygments_lexer": "ipython3",
   "version": "3.6.4"
  }
 },
 "nbformat": 4,
 "nbformat_minor": 2
}

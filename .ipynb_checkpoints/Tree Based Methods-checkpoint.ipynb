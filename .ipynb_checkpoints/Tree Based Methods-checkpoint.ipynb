{
 "cells": [
  {
   "cell_type": "markdown",
   "metadata": {},
   "source": [
    "# Tree Based Methods\n",
    "Random forest."
   ]
  },
  {
   "cell_type": "code",
   "execution_count": 1,
   "metadata": {},
   "outputs": [],
   "source": [
    "import pandas as pd\n",
    "import numpy as np\n",
    "import matplotlib.pyplot as plt\n",
    "from sklearn.metrics import roc_auc_score as roc\n",
    "from sklearn.metrics import roc_curve\n",
    "from sklearn.model_selection import train_test_split\n",
    "from sklearn.ensemble import RandomForestClassifier\n",
    "from sklearn.model_selection import GridSearchCV\n",
    "from sklearn.ensemble import AdaBoostClassifier\n",
    "import seaborn as sns"
   ]
  },
  {
   "cell_type": "code",
   "execution_count": 2,
   "metadata": {},
   "outputs": [],
   "source": [
    "from sklearn.tree import DecisionTreeClassifier"
   ]
  },
  {
   "cell_type": "code",
   "execution_count": 3,
   "metadata": {},
   "outputs": [],
   "source": [
    "from matplotlib.backends.backend_pdf import PdfPages"
   ]
  },
  {
   "cell_type": "code",
   "execution_count": 4,
   "metadata": {},
   "outputs": [],
   "source": [
    "alldata = pd.read_csv('/home/wangmk/UM/Research/SURE/cleaned_data/full_cleaned_data.csv')\n",
    "alldata = alldata.loc[alldata['First_toggle_time']!=10000,]"
   ]
  },
  {
   "cell_type": "code",
   "execution_count": 5,
   "metadata": {},
   "outputs": [
    {
     "name": "stdout",
     "output_type": "stream",
     "text": [
      "<class 'pandas.core.frame.DataFrame'>\n",
      "Int64Index: 3850 entries, 0 to 3999\n",
      "Data columns (total 16 columns):\n",
      "Trial                 3850 non-null int64\n",
      "True_state            3850 non-null bool\n",
      "Alert                 3850 non-null bool\n",
      "Identification        3850 non-null bool\n",
      "First_toggle_time     3850 non-null int64\n",
      "RMS                   3850 non-null float64\n",
      "Attention             3850 non-null float64\n",
      "Click                 3850 non-null int64\n",
      "Top_Left_Enemy        3850 non-null bool\n",
      "Top_Right_Enemy       3850 non-null bool\n",
      "Bottom_Left_Enemy     3850 non-null bool\n",
      "Bottom_Right_Enemy    3850 non-null bool\n",
      "Top_Left_Dark         3850 non-null bool\n",
      "Top_Right_Dark        3850 non-null bool\n",
      "Bottom_Left_Dark      3850 non-null bool\n",
      "Bottom_Right_Dark     3850 non-null bool\n",
      "dtypes: bool(11), float64(2), int64(3)\n",
      "memory usage: 221.8 KB\n"
     ]
    }
   ],
   "source": [
    "alldata.info()"
   ]
  },
  {
   "cell_type": "code",
   "execution_count": 6,
   "metadata": {},
   "outputs": [],
   "source": [
    "abnormal = alldata[alldata['RMS']>60.5]\n",
    "normal = alldata[alldata['RMS']<=60.5]"
   ]
  },
  {
   "cell_type": "code",
   "execution_count": 17,
   "metadata": {},
   "outputs": [],
   "source": [
    "accuracy = []\n",
    "precision = []\n",
    "recall = []\n",
    "auc = []\n",
    "importance = pd.DataFrame(columns = alldata.drop(['RMS'],axis=1).columns)"
   ]
  },
  {
   "cell_type": "code",
   "execution_count": 18,
   "metadata": {
    "collapsed": true
   },
   "outputs": [
    {
     "name": "stdout",
     "output_type": "stream",
     "text": [
      "20\n",
      "0\n",
      "1\n",
      "2\n",
      "3\n",
      "4\n",
      "5\n",
      "6\n",
      "7\n",
      "8\n",
      "9\n",
      "21\n",
      "0\n",
      "1\n",
      "2\n",
      "3\n",
      "4\n",
      "5\n",
      "6\n",
      "7\n",
      "8\n",
      "9\n",
      "22\n",
      "0\n",
      "1\n",
      "2\n",
      "3\n",
      "4\n",
      "5\n",
      "6\n",
      "7\n",
      "8\n",
      "9\n",
      "23\n",
      "0\n",
      "1\n",
      "2\n",
      "3\n",
      "4\n",
      "5\n",
      "6\n",
      "7\n",
      "8\n",
      "9\n",
      "24\n",
      "0\n",
      "1\n",
      "2\n",
      "3\n",
      "4\n",
      "5\n",
      "6\n",
      "7\n",
      "8\n",
      "9\n",
      "25\n",
      "0\n",
      "1\n",
      "2\n",
      "3\n",
      "4\n",
      "5\n",
      "6\n",
      "7\n",
      "8\n",
      "9\n",
      "26\n",
      "0\n",
      "1\n",
      "2\n",
      "3\n",
      "4\n",
      "5\n",
      "6\n",
      "7\n",
      "8\n",
      "9\n",
      "27\n",
      "0\n",
      "1\n",
      "2\n",
      "3\n",
      "4\n",
      "5\n",
      "6\n",
      "7\n",
      "8\n",
      "9\n",
      "28\n",
      "0\n",
      "1\n",
      "2\n",
      "3\n",
      "4\n",
      "5\n",
      "6\n",
      "7\n",
      "8\n",
      "9\n",
      "29\n",
      "0\n",
      "1\n",
      "2\n",
      "3\n",
      "4\n",
      "5\n",
      "6\n",
      "7\n",
      "8\n",
      "9\n"
     ]
    }
   ],
   "source": [
    "for seed in np.arange(20,30):\n",
    "    print(seed)\n",
    "    newdata = abnormal.append(normal.sample(n=157,random_state=seed))\n",
    "    newdata['performance'] = newdata['RMS'] <= 60.5\n",
    "    #newdata['First_toggle_time'] = newdata['First_toggle_time']/10000\n",
    "    #newdata['Trial'] = newdata['Trial']/100\n",
    "    X = newdata.drop(['RMS','performance'],axis=1)\n",
    "    y = newdata['performance']\n",
    "    for state in range(10):\n",
    "        print(state)\n",
    "        X_train, X_test, y_train, y_test = train_test_split(X,y, test_size = 0.3, random_state=state,stratify=y)\n",
    "        rf = RandomForestClassifier()\n",
    "        searcher = GridSearchCV(rf, {'n_estimators':[10,30,50,100,200],'max_features':[3,4,5,6]})\n",
    "        searcher.fit(X_train, y_train)\n",
    "        importance.loc[str(seed)+str(state),] = searcher.best_estimator_.feature_importances_\n",
    "        y_pred = searcher.predict(X_test)\n",
    "        outcome = pd.DataFrame({'Real':y_test, 'Predicted':y_pred})\n",
    "        precision.append(np.sum(outcome['Real'] & outcome['Predicted'])/np.sum(outcome['Predicted']))\n",
    "        recall.append(np.sum(outcome['Real'] & outcome['Predicted'])/np.sum(outcome['Real']))\n",
    "        accuracy.append(np.sum(y_pred==y_test)/len(y_pred))\n",
    "        y_pred_prob = searcher.predict_proba(X_test)[:,1]\n",
    "        auc.append(roc(y_test,y_pred_prob))"
   ]
  },
  {
   "cell_type": "code",
   "execution_count": 19,
   "metadata": {},
   "outputs": [],
   "source": [
    "conclusion = pd.DataFrame(importance.apply(np.mean),columns=['Importance'])"
   ]
  },
  {
   "cell_type": "code",
   "execution_count": 20,
   "metadata": {},
   "outputs": [],
   "source": [
    "import pickle"
   ]
  },
  {
   "cell_type": "code",
   "execution_count": 21,
   "metadata": {},
   "outputs": [
    {
     "name": "stdout",
     "output_type": "stream",
     "text": [
      "Average accuracy is:  0.7536842105263158\n",
      "Median accuracy is:  0.7578947368421053\n",
      "Average precision is:  0.7645495520737049\n",
      "Median precision is:  0.7659574468085106\n",
      "Average recall is:  0.7348581560283689\n",
      "Median recall is:  0.7291666666666666\n",
      "Average auc is:  0.8181582446808509\n",
      "Median auc is:  0.8252437943262412\n"
     ]
    }
   ],
   "source": [
    "print(\"Average accuracy is: \",np.mean(accuracy))\n",
    "print(\"Median accuracy is: \",np.median(accuracy))\n",
    "print(\"Average precision is: \",np.mean(precision))\n",
    "print(\"Median precision is: \",np.median(precision))\n",
    "print(\"Average recall is: \",np.mean(recall))\n",
    "print(\"Median recall is: \",np.median(recall))\n",
    "print(\"Average auc is: \",np.mean(auc))\n",
    "print(\"Median auc is: \",np.median(auc))"
   ]
  },
  {
   "cell_type": "code",
   "execution_count": 22,
   "metadata": {},
   "outputs": [
    {
     "data": {
      "text/plain": [
       "0.7229609929078015"
      ]
     },
     "execution_count": 22,
     "metadata": {},
     "output_type": "execute_result"
    }
   ],
   "source": [
    "np.min(auc)"
   ]
  },
  {
   "cell_type": "code",
   "execution_count": 23,
   "metadata": {},
   "outputs": [],
   "source": [
    "outcome = {'accuracy':accuracy,'precision':precision,'recall':recall,'auc':auc}\n",
    "with open('outcome_rf_reduced_1.pkl','wb+') as f:\n",
    "    pickle.dump(outcome,f)"
   ]
  },
  {
   "cell_type": "code",
   "execution_count": 24,
   "metadata": {},
   "outputs": [
    {
     "data": {
      "text/html": [
       "<div>\n",
       "<style scoped>\n",
       "    .dataframe tbody tr th:only-of-type {\n",
       "        vertical-align: middle;\n",
       "    }\n",
       "\n",
       "    .dataframe tbody tr th {\n",
       "        vertical-align: top;\n",
       "    }\n",
       "\n",
       "    .dataframe thead th {\n",
       "        text-align: right;\n",
       "    }\n",
       "</style>\n",
       "<table border=\"1\" class=\"dataframe\">\n",
       "  <thead>\n",
       "    <tr style=\"text-align: right;\">\n",
       "      <th></th>\n",
       "      <th>Importance</th>\n",
       "    </tr>\n",
       "  </thead>\n",
       "  <tbody>\n",
       "    <tr>\n",
       "      <th>Attention</th>\n",
       "      <td>0.347525</td>\n",
       "    </tr>\n",
       "    <tr>\n",
       "      <th>Trial</th>\n",
       "      <td>0.199576</td>\n",
       "    </tr>\n",
       "    <tr>\n",
       "      <th>First_toggle_time</th>\n",
       "      <td>0.163410</td>\n",
       "    </tr>\n",
       "    <tr>\n",
       "      <th>Click</th>\n",
       "      <td>0.096877</td>\n",
       "    </tr>\n",
       "    <tr>\n",
       "      <th>Bottom_Right_Dark</th>\n",
       "      <td>0.026441</td>\n",
       "    </tr>\n",
       "    <tr>\n",
       "      <th>Alert</th>\n",
       "      <td>0.025941</td>\n",
       "    </tr>\n",
       "    <tr>\n",
       "      <th>Top_Right_Dark</th>\n",
       "      <td>0.025795</td>\n",
       "    </tr>\n",
       "    <tr>\n",
       "      <th>Top_Left_Dark</th>\n",
       "      <td>0.025296</td>\n",
       "    </tr>\n",
       "    <tr>\n",
       "      <th>Bottom_Left_Dark</th>\n",
       "      <td>0.025190</td>\n",
       "    </tr>\n",
       "    <tr>\n",
       "      <th>True_state</th>\n",
       "      <td>0.014168</td>\n",
       "    </tr>\n",
       "    <tr>\n",
       "      <th>Identification</th>\n",
       "      <td>0.013378</td>\n",
       "    </tr>\n",
       "    <tr>\n",
       "      <th>Top_Left_Enemy</th>\n",
       "      <td>0.010026</td>\n",
       "    </tr>\n",
       "    <tr>\n",
       "      <th>Bottom_Left_Enemy</th>\n",
       "      <td>0.009814</td>\n",
       "    </tr>\n",
       "    <tr>\n",
       "      <th>Top_Right_Enemy</th>\n",
       "      <td>0.009165</td>\n",
       "    </tr>\n",
       "    <tr>\n",
       "      <th>Bottom_Right_Enemy</th>\n",
       "      <td>0.007398</td>\n",
       "    </tr>\n",
       "  </tbody>\n",
       "</table>\n",
       "</div>"
      ],
      "text/plain": [
       "                    Importance\n",
       "Attention             0.347525\n",
       "Trial                 0.199576\n",
       "First_toggle_time     0.163410\n",
       "Click                 0.096877\n",
       "Bottom_Right_Dark     0.026441\n",
       "Alert                 0.025941\n",
       "Top_Right_Dark        0.025795\n",
       "Top_Left_Dark         0.025296\n",
       "Bottom_Left_Dark      0.025190\n",
       "True_state            0.014168\n",
       "Identification        0.013378\n",
       "Top_Left_Enemy        0.010026\n",
       "Bottom_Left_Enemy     0.009814\n",
       "Top_Right_Enemy       0.009165\n",
       "Bottom_Right_Enemy    0.007398"
      ]
     },
     "execution_count": 24,
     "metadata": {},
     "output_type": "execute_result"
    }
   ],
   "source": [
    "conclusion.sort_values('Importance',ascending=False)"
   ]
  },
  {
   "cell_type": "code",
   "execution_count": 25,
   "metadata": {},
   "outputs": [
    {
     "data": {
      "text/plain": [
       "<matplotlib.figure.Figure at 0x7f99c07a1630>"
      ]
     },
     "metadata": {},
     "output_type": "display_data"
    },
    {
     "data": {
      "image/png": "[encoded data removed]",
      "text/plain": [
       "<matplotlib.figure.Figure at 0x7f99c078d080>"
      ]
     },
     "metadata": {},
     "output_type": "display_data"
    }
   ],
   "source": [
    "sns.set()\n",
    "df= conclusion.sort_values(by = 'Importance', ascending = True)\n",
    "labs = ['Proportion of Attention to Tracking Task','Trial Sequence','Time to first view toggle','Number of Toggle Clicks',\n",
    "        'Darkness of Bottom Right Figure',\"Alert Type\",'Darkness of Top Right Figure','Darkness of Top Left Figure','Darkness of Bottom Left Figure'\n",
    "        ,\"True State\",\"Identification\",\"Existence of Danger in Top Left Figure\"\n",
    "        ,\"Existence of Danger in Bottom Left Figure\",\"Existence of Danger in Top Right Figure\",\"Existence of Danger in Bottom Right Figure\"]\n",
    "labs.reverse()\n",
    "# plot\n",
    "fig = plt.figure()\n",
    "df.plot.barh(fontsize = 14,figsize = (8,8),legend=None).set_yticklabels(labs, rotation=0)\n",
    "plt.xlabel('Importance',fontsize = 14)\n",
    "plt.ylabel('Feature',fontsize = 14)\n",
    "plt.title('Variable Importance for Random Forest Classifier',fontsize = 14)\n",
    "plt.savefig(\"VarImpPlot_reduced_1.png\",bbox_inches='tight')"
   ]
  },
  {
   "cell_type": "code",
   "execution_count": 16,
   "metadata": {},
   "outputs": [],
   "source": [
    "importance.to_csv('/home/wangmk/UM/Research/SURE/cleaned_data/importance_rf_reduced_1.csv')"
   ]
  }
 ],
 "metadata": {
  "kernelspec": {
   "display_name": "Python 3",
   "language": "python",
   "name": "python3"
  },
  "language_info": {
   "codemirror_mode": {
    "name": "ipython",
    "version": 3
   },
   "file_extension": ".py",
   "mimetype": "text/x-python",
   "name": "python",
   "nbconvert_exporter": "python",
   "pygments_lexer": "ipython3",
   "version": "3.6.4"
  }
 },
 "nbformat": 4,
 "nbformat_minor": 2
}

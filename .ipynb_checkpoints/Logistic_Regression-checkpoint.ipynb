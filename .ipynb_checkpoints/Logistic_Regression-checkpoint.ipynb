{
 "cells": [
  {
   "cell_type": "markdown",
   "metadata": {},
   "source": [
    "# Logistic Regression"
   ]
  },
  {
   "cell_type": "code",
   "execution_count": 1,
   "metadata": {},
   "outputs": [],
   "source": [
    "import pandas as pd\n",
    "import numpy as np"
   ]
  },
  {
   "cell_type": "code",
   "execution_count": 2,
   "metadata": {},
   "outputs": [],
   "source": [
    "from sklearn.metrics import roc_auc_score\n",
    "from sklearn.model_selection import cross_val_score\n",
    "from sklearn.metrics import classification_report,confusion_matrix\n",
    "from sklearn.model_selection import train_test_split\n",
    "from sklearn.linear_model import LogisticRegression\n",
    "from sklearn.metrics import roc_curve\n",
    "from sklearn.model_selection import GridSearchCV"
   ]
  },
  {
   "cell_type": "code",
   "execution_count": 3,
   "metadata": {},
   "outputs": [],
   "source": [
    "import matplotlib.pyplot as plt\n",
    "import seaborn as sns"
   ]
  },
  {
   "cell_type": "code",
   "execution_count": 4,
   "metadata": {},
   "outputs": [],
   "source": [
    "from matplotlib.backends.backend_pdf import PdfPages"
   ]
  },
  {
   "cell_type": "code",
   "execution_count": 5,
   "metadata": {},
   "outputs": [],
   "source": [
    "alldata = pd.read_csv('/home/wangmk/UM/Research/SURE/cleaned_data/full_cleaned_data.csv')"
   ]
  },
  {
   "cell_type": "code",
   "execution_count": 6,
   "metadata": {},
   "outputs": [],
   "source": [
    "alldata['Agree'] = ~(alldata['True_state']^alldata['Alert'])"
   ]
  },
  {
   "cell_type": "code",
   "execution_count": 7,
   "metadata": {},
   "outputs": [
    {
     "data": {
      "text/html": [
       "<div>\n",
       "<style scoped>\n",
       "    .dataframe tbody tr th:only-of-type {\n",
       "        vertical-align: middle;\n",
       "    }\n",
       "\n",
       "    .dataframe tbody tr th {\n",
       "        vertical-align: top;\n",
       "    }\n",
       "\n",
       "    .dataframe thead th {\n",
       "        text-align: right;\n",
       "    }\n",
       "</style>\n",
       "<table border=\"1\" class=\"dataframe\">\n",
       "  <thead>\n",
       "    <tr style=\"text-align: right;\">\n",
       "      <th></th>\n",
       "      <th>Trial</th>\n",
       "      <th>True_state</th>\n",
       "      <th>Alert</th>\n",
       "      <th>Identification</th>\n",
       "      <th>First_toggle_time</th>\n",
       "      <th>RMS</th>\n",
       "      <th>Attention</th>\n",
       "      <th>Click</th>\n",
       "      <th>Top_Left_Enemy</th>\n",
       "      <th>Top_Right_Enemy</th>\n",
       "      <th>Bottom_Left_Enemy</th>\n",
       "      <th>Bottom_Right_Enemy</th>\n",
       "      <th>Top_Left_Dark</th>\n",
       "      <th>Top_Right_Dark</th>\n",
       "      <th>Bottom_Left_Dark</th>\n",
       "      <th>Bottom_Right_Dark</th>\n",
       "      <th>Agree</th>\n",
       "    </tr>\n",
       "  </thead>\n",
       "  <tbody>\n",
       "    <tr>\n",
       "      <th>0</th>\n",
       "      <td>0</td>\n",
       "      <td>True</td>\n",
       "      <td>True</td>\n",
       "      <td>True</td>\n",
       "      <td>4179</td>\n",
       "      <td>65.244487</td>\n",
       "      <td>0.914573</td>\n",
       "      <td>2</td>\n",
       "      <td>True</td>\n",
       "      <td>False</td>\n",
       "      <td>False</td>\n",
       "      <td>False</td>\n",
       "      <td>False</td>\n",
       "      <td>True</td>\n",
       "      <td>True</td>\n",
       "      <td>True</td>\n",
       "      <td>True</td>\n",
       "    </tr>\n",
       "    <tr>\n",
       "      <th>1</th>\n",
       "      <td>1</td>\n",
       "      <td>False</td>\n",
       "      <td>False</td>\n",
       "      <td>False</td>\n",
       "      <td>3653</td>\n",
       "      <td>67.293907</td>\n",
       "      <td>0.895000</td>\n",
       "      <td>2</td>\n",
       "      <td>False</td>\n",
       "      <td>False</td>\n",
       "      <td>False</td>\n",
       "      <td>False</td>\n",
       "      <td>True</td>\n",
       "      <td>True</td>\n",
       "      <td>True</td>\n",
       "      <td>True</td>\n",
       "      <td>True</td>\n",
       "    </tr>\n",
       "    <tr>\n",
       "      <th>2</th>\n",
       "      <td>2</td>\n",
       "      <td>False</td>\n",
       "      <td>True</td>\n",
       "      <td>False</td>\n",
       "      <td>2186</td>\n",
       "      <td>100.119892</td>\n",
       "      <td>0.854271</td>\n",
       "      <td>2</td>\n",
       "      <td>False</td>\n",
       "      <td>False</td>\n",
       "      <td>False</td>\n",
       "      <td>False</td>\n",
       "      <td>True</td>\n",
       "      <td>False</td>\n",
       "      <td>True</td>\n",
       "      <td>False</td>\n",
       "      <td>False</td>\n",
       "    </tr>\n",
       "    <tr>\n",
       "      <th>3</th>\n",
       "      <td>3</td>\n",
       "      <td>False</td>\n",
       "      <td>False</td>\n",
       "      <td>False</td>\n",
       "      <td>3412</td>\n",
       "      <td>33.403009</td>\n",
       "      <td>0.889447</td>\n",
       "      <td>2</td>\n",
       "      <td>False</td>\n",
       "      <td>False</td>\n",
       "      <td>False</td>\n",
       "      <td>False</td>\n",
       "      <td>True</td>\n",
       "      <td>False</td>\n",
       "      <td>True</td>\n",
       "      <td>True</td>\n",
       "      <td>True</td>\n",
       "    </tr>\n",
       "    <tr>\n",
       "      <th>4</th>\n",
       "      <td>4</td>\n",
       "      <td>False</td>\n",
       "      <td>False</td>\n",
       "      <td>False</td>\n",
       "      <td>4514</td>\n",
       "      <td>70.063858</td>\n",
       "      <td>0.929648</td>\n",
       "      <td>2</td>\n",
       "      <td>False</td>\n",
       "      <td>False</td>\n",
       "      <td>False</td>\n",
       "      <td>False</td>\n",
       "      <td>True</td>\n",
       "      <td>True</td>\n",
       "      <td>True</td>\n",
       "      <td>True</td>\n",
       "      <td>True</td>\n",
       "    </tr>\n",
       "  </tbody>\n",
       "</table>\n",
       "</div>"
      ],
      "text/plain": [
       "   Trial  True_state  Alert  Identification  First_toggle_time         RMS  \\\n",
       "0      0        True   True            True               4179   65.244487   \n",
       "1      1       False  False           False               3653   67.293907   \n",
       "2      2       False   True           False               2186  100.119892   \n",
       "3      3       False  False           False               3412   33.403009   \n",
       "4      4       False  False           False               4514   70.063858   \n",
       "\n",
       "   Attention  Click  Top_Left_Enemy  Top_Right_Enemy  Bottom_Left_Enemy  \\\n",
       "0   0.914573      2            True            False              False   \n",
       "1   0.895000      2           False            False              False   \n",
       "2   0.854271      2           False            False              False   \n",
       "3   0.889447      2           False            False              False   \n",
       "4   0.929648      2           False            False              False   \n",
       "\n",
       "   Bottom_Right_Enemy  Top_Left_Dark  Top_Right_Dark  Bottom_Left_Dark  \\\n",
       "0               False          False            True              True   \n",
       "1               False           True            True              True   \n",
       "2               False           True           False              True   \n",
       "3               False           True           False              True   \n",
       "4               False           True            True              True   \n",
       "\n",
       "   Bottom_Right_Dark  Agree  \n",
       "0               True   True  \n",
       "1               True   True  \n",
       "2              False  False  \n",
       "3               True   True  \n",
       "4               True   True  "
      ]
     },
     "execution_count": 7,
     "metadata": {},
     "output_type": "execute_result"
    }
   ],
   "source": [
    "alldata.head()"
   ]
  },
  {
   "cell_type": "code",
   "execution_count": 8,
   "metadata": {},
   "outputs": [
    {
     "name": "stdout",
     "output_type": "stream",
     "text": [
      "<class 'pandas.core.frame.DataFrame'>\n",
      "RangeIndex: 4000 entries, 0 to 3999\n",
      "Data columns (total 17 columns):\n",
      "Trial                 4000 non-null int64\n",
      "True_state            4000 non-null bool\n",
      "Alert                 4000 non-null bool\n",
      "Identification        4000 non-null bool\n",
      "First_toggle_time     4000 non-null int64\n",
      "RMS                   4000 non-null float64\n",
      "Attention             4000 non-null float64\n",
      "Click                 4000 non-null int64\n",
      "Top_Left_Enemy        4000 non-null bool\n",
      "Top_Right_Enemy       4000 non-null bool\n",
      "Bottom_Left_Enemy     4000 non-null bool\n",
      "Bottom_Right_Enemy    4000 non-null bool\n",
      "Top_Left_Dark         4000 non-null bool\n",
      "Top_Right_Dark        4000 non-null bool\n",
      "Bottom_Left_Dark      4000 non-null bool\n",
      "Bottom_Right_Dark     4000 non-null bool\n",
      "Agree                 4000 non-null bool\n",
      "dtypes: bool(12), float64(2), int64(3)\n",
      "memory usage: 203.2 KB\n"
     ]
    }
   ],
   "source": [
    "alldata.info()"
   ]
  },
  {
   "cell_type": "code",
   "execution_count": 9,
   "metadata": {},
   "outputs": [],
   "source": [
    "abnormal = alldata[alldata['RMS']>60]\n",
    "normal = alldata[alldata['RMS']<=60]"
   ]
  },
  {
   "cell_type": "code",
   "execution_count": 10,
   "metadata": {},
   "outputs": [
    {
     "data": {
      "text/plain": [
       "(160, 17)"
      ]
     },
     "execution_count": 10,
     "metadata": {},
     "output_type": "execute_result"
    }
   ],
   "source": [
    "abnormal.shape"
   ]
  },
  {
   "cell_type": "markdown",
   "metadata": {},
   "source": [
    "Next We try logistic regression, the first and the most simple machine learning model for binary outcomes."
   ]
  },
  {
   "cell_type": "code",
   "execution_count": 58,
   "metadata": {},
   "outputs": [],
   "source": [
    "accuracy = []\n",
    "precision = []\n",
    "recall = []\n",
    "auc = []\n",
    "coefficients = pd.DataFrame(columns = alldata.drop(['RMS'],axis=1).columns)"
   ]
  },
  {
   "cell_type": "code",
   "execution_count": 59,
   "metadata": {},
   "outputs": [],
   "source": [
    "for seed in range(10):\n",
    "    newdata = abnormal.append(normal.sample(n=160,random_state=seed))\n",
    "    newdata['performance'] = newdata['RMS'] <= 60\n",
    "    newdata['First_toggle_time'] = newdata['First_toggle_time']/10000\n",
    "    newdata['Trial'] = newdata['Trial']/100\n",
    "    X = newdata.drop(['RMS','performance'],axis=1)\n",
    "    y = newdata['performance']\n",
    "    for state in np.arange(20,30):\n",
    "        X_train, X_test, y_train, y_test = train_test_split(X,y, test_size = 0.3, random_state=state,stratify=y)\n",
    "        logreg = LogisticRegression('l1')\n",
    "        searcher = GridSearchCV(logreg, {'C':[0.001, 0.01, 0.1, 1, 10,100]})\n",
    "        searcher.fit(X_train, y_train)\n",
    "        coefficients.loc[str(seed)+str(state),] = searcher.best_estimator_.coef_\n",
    "        y_pred = searcher.predict(X_test)\n",
    "        outcome = pd.DataFrame({'Real':y_test, 'Predicted':y_pred})\n",
    "        precision.append(np.sum(outcome['Real'] & outcome['Predicted'])/np.sum(outcome['Predicted']))\n",
    "        recall.append(np.sum(outcome['Real'] & outcome['Predicted'])/np.sum(outcome['Real']))\n",
    "        accuracy.append(np.sum(y_pred==y_test)/len(y_pred))\n",
    "        y_pred_prob = searcher.predict_proba(X_test)[:,1]\n",
    "        auc.append(roc_auc_score(y_test,y_pred_prob))"
   ]
  },
  {
   "cell_type": "code",
   "execution_count": 65,
   "metadata": {},
   "outputs": [],
   "source": [
    "conclusion = pd.DataFrame(coefficients.apply(np.mean),columns=['Coefficient'])"
   ]
  },
  {
   "cell_type": "code",
   "execution_count": 62,
   "metadata": {},
   "outputs": [],
   "source": [
    "import pickle"
   ]
  },
  {
   "cell_type": "code",
   "execution_count": 63,
   "metadata": {},
   "outputs": [],
   "source": [
    "outcome = {'accuracy':accuracy,'precision':precision,'recall':recall,'auc':auc}\n",
    "with open('outcome_logreg.pkl','wb+') as f:\n",
    "    pickle.dump(outcome,f)"
   ]
  },
  {
   "cell_type": "code",
   "execution_count": 64,
   "metadata": {},
   "outputs": [],
   "source": [
    "coefficients.to_csv('/home/wangmk/UM/Research/SURE/cleaned_data/coefficients_logreg.csv')"
   ]
  },
  {
   "cell_type": "code",
   "execution_count": 66,
   "metadata": {},
   "outputs": [],
   "source": [
    "conclusion['abs_coefficient'] = conclusion['Coefficient'].apply(np.abs)"
   ]
  },
  {
   "cell_type": "code",
   "execution_count": 67,
   "metadata": {},
   "outputs": [
    {
     "data": {
      "text/html": [
       "<div>\n",
       "<style scoped>\n",
       "    .dataframe tbody tr th:only-of-type {\n",
       "        vertical-align: middle;\n",
       "    }\n",
       "\n",
       "    .dataframe tbody tr th {\n",
       "        vertical-align: top;\n",
       "    }\n",
       "\n",
       "    .dataframe thead th {\n",
       "        text-align: right;\n",
       "    }\n",
       "</style>\n",
       "<table border=\"1\" class=\"dataframe\">\n",
       "  <thead>\n",
       "    <tr style=\"text-align: right;\">\n",
       "      <th></th>\n",
       "      <th>Coefficient</th>\n",
       "      <th>abs_coefficient</th>\n",
       "    </tr>\n",
       "  </thead>\n",
       "  <tbody>\n",
       "    <tr>\n",
       "      <th>Identification</th>\n",
       "      <td>-0.008528</td>\n",
       "      <td>0.008528</td>\n",
       "    </tr>\n",
       "    <tr>\n",
       "      <th>Bottom_Right_Enemy</th>\n",
       "      <td>0.043128</td>\n",
       "      <td>0.043128</td>\n",
       "    </tr>\n",
       "    <tr>\n",
       "      <th>Alert</th>\n",
       "      <td>-0.101741</td>\n",
       "      <td>0.101741</td>\n",
       "    </tr>\n",
       "    <tr>\n",
       "      <th>Bottom_Right_Dark</th>\n",
       "      <td>0.120505</td>\n",
       "      <td>0.120505</td>\n",
       "    </tr>\n",
       "    <tr>\n",
       "      <th>Top_Left_Dark</th>\n",
       "      <td>-0.147959</td>\n",
       "      <td>0.147959</td>\n",
       "    </tr>\n",
       "    <tr>\n",
       "      <th>First_toggle_time</th>\n",
       "      <td>-0.178457</td>\n",
       "      <td>0.178457</td>\n",
       "    </tr>\n",
       "    <tr>\n",
       "      <th>Top_Right_Dark</th>\n",
       "      <td>0.195775</td>\n",
       "      <td>0.195775</td>\n",
       "    </tr>\n",
       "    <tr>\n",
       "      <th>Agree</th>\n",
       "      <td>0.206960</td>\n",
       "      <td>0.206960</td>\n",
       "    </tr>\n",
       "    <tr>\n",
       "      <th>Top_Right_Enemy</th>\n",
       "      <td>0.236424</td>\n",
       "      <td>0.236424</td>\n",
       "    </tr>\n",
       "    <tr>\n",
       "      <th>Bottom_Left_Dark</th>\n",
       "      <td>0.267693</td>\n",
       "      <td>0.267693</td>\n",
       "    </tr>\n",
       "    <tr>\n",
       "      <th>True_state</th>\n",
       "      <td>0.313370</td>\n",
       "      <td>0.313370</td>\n",
       "    </tr>\n",
       "    <tr>\n",
       "      <th>Top_Left_Enemy</th>\n",
       "      <td>-0.705454</td>\n",
       "      <td>0.705454</td>\n",
       "    </tr>\n",
       "    <tr>\n",
       "      <th>Click</th>\n",
       "      <td>0.794621</td>\n",
       "      <td>0.794621</td>\n",
       "    </tr>\n",
       "    <tr>\n",
       "      <th>Bottom_Left_Enemy</th>\n",
       "      <td>1.197840</td>\n",
       "      <td>1.197840</td>\n",
       "    </tr>\n",
       "    <tr>\n",
       "      <th>Trial</th>\n",
       "      <td>1.510901</td>\n",
       "      <td>1.510901</td>\n",
       "    </tr>\n",
       "    <tr>\n",
       "      <th>Attention</th>\n",
       "      <td>27.811139</td>\n",
       "      <td>27.811139</td>\n",
       "    </tr>\n",
       "  </tbody>\n",
       "</table>\n",
       "</div>"
      ],
      "text/plain": [
       "                    Coefficient  abs_coefficient\n",
       "Identification        -0.008528         0.008528\n",
       "Bottom_Right_Enemy     0.043128         0.043128\n",
       "Alert                 -0.101741         0.101741\n",
       "Bottom_Right_Dark      0.120505         0.120505\n",
       "Top_Left_Dark         -0.147959         0.147959\n",
       "First_toggle_time     -0.178457         0.178457\n",
       "Top_Right_Dark         0.195775         0.195775\n",
       "Agree                  0.206960         0.206960\n",
       "Top_Right_Enemy        0.236424         0.236424\n",
       "Bottom_Left_Dark       0.267693         0.267693\n",
       "True_state             0.313370         0.313370\n",
       "Top_Left_Enemy        -0.705454         0.705454\n",
       "Click                  0.794621         0.794621\n",
       "Bottom_Left_Enemy      1.197840         1.197840\n",
       "Trial                  1.510901         1.510901\n",
       "Attention             27.811139        27.811139"
      ]
     },
     "execution_count": 67,
     "metadata": {},
     "output_type": "execute_result"
    }
   ],
   "source": [
    "conclusion.sort_values('abs_coefficient')"
   ]
  }
 ],
 "metadata": {
  "kernelspec": {
   "display_name": "Python 3",
   "language": "python",
   "name": "python3"
  },
  "language_info": {
   "codemirror_mode": {
    "name": "ipython",
    "version": 3
   },
   "file_extension": ".py",
   "mimetype": "text/x-python",
   "name": "python",
   "nbconvert_exporter": "python",
   "pygments_lexer": "ipython3",
   "version": "3.6.4"
  }
 },
 "nbformat": 4,
 "nbformat_minor": 2
}

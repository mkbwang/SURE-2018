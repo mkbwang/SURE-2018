{
 "cells": [
  {
   "cell_type": "markdown",
   "metadata": {},
   "source": [
    "# Deal with Inconsistent sheet naming"
   ]
  },
  {
   "cell_type": "code",
   "execution_count": 2,
   "metadata": {},
   "outputs": [],
   "source": [
    "import openpyxl"
   ]
  },
  {
   "cell_type": "code",
   "execution_count": 2,
   "metadata": {},
   "outputs": [],
   "source": [
    "import pandas as pd"
   ]
  },
  {
   "cell_type": "code",
   "execution_count": null,
   "metadata": {},
   "outputs": [],
   "source": [
    "results = openpyxl.load_workbook('Clean_Results_macroenabled.xlsm')"
   ]
  },
  {
   "cell_type": "code",
   "execution_count": null,
   "metadata": {},
   "outputs": [],
   "source": [
    "names = results.get_sheet_names()"
   ]
  },
  {
   "cell_type": "code",
   "execution_count": null,
   "metadata": {},
   "outputs": [],
   "source": [
    "info = pd.DataFrame(columns=['Reliability','Alarm Type'])\n",
    "reliability = ['70','80','90']\n",
    "atype = ['bi','li','con'] "
   ]
  },
  {
   "cell_type": "code",
   "execution_count": null,
   "metadata": {},
   "outputs": [],
   "source": [
    "for number, name in enumerate(names,0):\n",
    "    sheet = results.get_sheet_by_name(name)\n",
    "    if number % 3 ==0 :\n",
    "        for system in reliability:\n",
    "            if name.find(system) != -1:\n",
    "                info.loc[number // 3, \"Reliability\"] = system\n",
    "                break\n",
    "        for alarm in atype:\n",
    "            if name.find(alarm) != -1:\n",
    "                info.loc[number // 3, \"Alarm Type\"] = alarm\n",
    "                break\n",
    "        sheet.title='_'.join([str(number // 3), 'output'])\n",
    "    elif number % 3 == 1:\n",
    "        sheet.title = '_'.join([str(number // 3), 'trust'])\n",
    "    else:\n",
    "        sheet.title = '_'.join([str(number // 3), 'practice'])"
   ]
  },
  {
   "cell_type": "code",
   "execution_count": 13,
   "metadata": {},
   "outputs": [],
   "source": [
    "results.save('Results_modified.xlsx')"
   ]
  },
  {
   "cell_type": "code",
   "execution_count": 16,
   "metadata": {},
   "outputs": [],
   "source": [
    "info.to_csv('result_background.csv', encoding='utf-8')"
   ]
  },
  {
   "cell_type": "markdown",
   "metadata": {},
   "source": [
    "# Remove useless columns"
   ]
  },
  {
   "cell_type": "code",
   "execution_count": 1,
   "metadata": {},
   "outputs": [],
   "source": [
    "import xlrd\n",
    "import pandas as pd\n",
    "import numpy as np\n",
    "import pickle"
   ]
  },
  {
   "cell_type": "code",
   "execution_count": 2,
   "metadata": {},
   "outputs": [],
   "source": [
    "book = pd.ExcelFile('/home/wangmk/UM/Research/SURE/Results_modified.xlsx')"
   ]
  },
  {
   "cell_type": "code",
   "execution_count": 3,
   "metadata": {},
   "outputs": [],
   "source": [
    "with open(\"/home/wangmk/UM/Research/SURE/cleaned_data/pic_brightness_1.pkl\",'rb') as f:\n",
    "    pic_brightness = pickle.load(f)[0]"
   ]
  },
  {
   "cell_type": "code",
   "execution_count": 4,
   "metadata": {},
   "outputs": [],
   "source": [
    "names = book.sheet_names"
   ]
  },
  {
   "cell_type": "code",
   "execution_count": 5,
   "metadata": {},
   "outputs": [],
   "source": [
    "participants = [0,2,4,7,9,10,13,15,17,20,22,24,27,29,31,34,36,38,41,43,45,48,50,52,55,57,59,62,\n",
    "                64,66,69,71,72,74,76,77,79,82,86,88]"
   ]
  },
  {
   "cell_type": "code",
   "execution_count": 6,
   "metadata": {},
   "outputs": [],
   "source": [
    "def detect(filename):\n",
    "    if 'present' in filename:\n",
    "        return True\n",
    "    else:\n",
    "        return False"
   ]
  },
  {
   "cell_type": "code",
   "execution_count": 7,
   "metadata": {},
   "outputs": [],
   "source": [
    "def encode_brightness(picname):\n",
    "    return pic_brightness[picname]"
   ]
  },
  {
   "cell_type": "code",
   "execution_count": 8,
   "metadata": {
    "collapsed": true
   },
   "outputs": [
    {
     "name": "stdout",
     "output_type": "stream",
     "text": [
      "0\n"
     ]
    },
    {
     "name": "stderr",
     "output_type": "stream",
     "text": [
      "/home/wangmk/anaconda3/lib/python3.6/site-packages/ipykernel_launcher.py:10: SettingWithCopyWarning: \n",
      "A value is trying to be set on a copy of a slice from a DataFrame.\n",
      "Try using .loc[row_indexer,col_indexer] = value instead\n",
      "\n",
      "See the caveats in the documentation: http://pandas.pydata.org/pandas-docs/stable/indexing.html#indexing-view-versus-copy\n",
      "  # Remove the CWD from sys.path while we load stuff.\n",
      "/home/wangmk/anaconda3/lib/python3.6/site-packages/ipykernel_launcher.py:11: SettingWithCopyWarning: \n",
      "A value is trying to be set on a copy of a slice from a DataFrame.\n",
      "Try using .loc[row_indexer,col_indexer] = value instead\n",
      "\n",
      "See the caveats in the documentation: http://pandas.pydata.org/pandas-docs/stable/indexing.html#indexing-view-versus-copy\n",
      "  # This is added back by InteractiveShellApp.init_path()\n",
      "/home/wangmk/anaconda3/lib/python3.6/site-packages/ipykernel_launcher.py:12: SettingWithCopyWarning: \n",
      "A value is trying to be set on a copy of a slice from a DataFrame.\n",
      "Try using .loc[row_indexer,col_indexer] = value instead\n",
      "\n",
      "See the caveats in the documentation: http://pandas.pydata.org/pandas-docs/stable/indexing.html#indexing-view-versus-copy\n",
      "  if sys.path[0] == '':\n",
      "/home/wangmk/anaconda3/lib/python3.6/site-packages/ipykernel_launcher.py:13: SettingWithCopyWarning: \n",
      "A value is trying to be set on a copy of a slice from a DataFrame.\n",
      "Try using .loc[row_indexer,col_indexer] = value instead\n",
      "\n",
      "See the caveats in the documentation: http://pandas.pydata.org/pandas-docs/stable/indexing.html#indexing-view-versus-copy\n",
      "  del sys.path[0]\n",
      "/home/wangmk/anaconda3/lib/python3.6/site-packages/ipykernel_launcher.py:15: SettingWithCopyWarning: \n",
      "A value is trying to be set on a copy of a slice from a DataFrame.\n",
      "Try using .loc[row_indexer,col_indexer] = value instead\n",
      "\n",
      "See the caveats in the documentation: http://pandas.pydata.org/pandas-docs/stable/indexing.html#indexing-view-versus-copy\n",
      "  from ipykernel import kernelapp as app\n",
      "/home/wangmk/anaconda3/lib/python3.6/site-packages/ipykernel_launcher.py:16: SettingWithCopyWarning: \n",
      "A value is trying to be set on a copy of a slice from a DataFrame.\n",
      "Try using .loc[row_indexer,col_indexer] = value instead\n",
      "\n",
      "See the caveats in the documentation: http://pandas.pydata.org/pandas-docs/stable/indexing.html#indexing-view-versus-copy\n",
      "  app.launch_new_instance()\n",
      "/home/wangmk/anaconda3/lib/python3.6/site-packages/ipykernel_launcher.py:17: SettingWithCopyWarning: \n",
      "A value is trying to be set on a copy of a slice from a DataFrame.\n",
      "Try using .loc[row_indexer,col_indexer] = value instead\n",
      "\n",
      "See the caveats in the documentation: http://pandas.pydata.org/pandas-docs/stable/indexing.html#indexing-view-versus-copy\n",
      "/home/wangmk/anaconda3/lib/python3.6/site-packages/ipykernel_launcher.py:18: SettingWithCopyWarning: \n",
      "A value is trying to be set on a copy of a slice from a DataFrame.\n",
      "Try using .loc[row_indexer,col_indexer] = value instead\n",
      "\n",
      "See the caveats in the documentation: http://pandas.pydata.org/pandas-docs/stable/indexing.html#indexing-view-versus-copy\n",
      "/home/wangmk/anaconda3/lib/python3.6/site-packages/ipykernel_launcher.py:20: SettingWithCopyWarning: \n",
      "A value is trying to be set on a copy of a slice from a DataFrame.\n",
      "Try using .loc[row_indexer,col_indexer] = value instead\n",
      "\n",
      "See the caveats in the documentation: http://pandas.pydata.org/pandas-docs/stable/indexing.html#indexing-view-versus-copy\n",
      "/home/wangmk/anaconda3/lib/python3.6/site-packages/ipykernel_launcher.py:21: SettingWithCopyWarning: \n",
      "A value is trying to be set on a copy of a slice from a DataFrame.\n",
      "Try using .loc[row_indexer,col_indexer] = value instead\n",
      "\n",
      "See the caveats in the documentation: http://pandas.pydata.org/pandas-docs/stable/indexing.html#indexing-view-versus-copy\n",
      "/home/wangmk/anaconda3/lib/python3.6/site-packages/ipykernel_launcher.py:22: SettingWithCopyWarning: \n",
      "A value is trying to be set on a copy of a slice from a DataFrame.\n",
      "Try using .loc[row_indexer,col_indexer] = value instead\n",
      "\n",
      "See the caveats in the documentation: http://pandas.pydata.org/pandas-docs/stable/indexing.html#indexing-view-versus-copy\n",
      "/home/wangmk/anaconda3/lib/python3.6/site-packages/ipykernel_launcher.py:23: SettingWithCopyWarning: \n",
      "A value is trying to be set on a copy of a slice from a DataFrame.\n",
      "Try using .loc[row_indexer,col_indexer] = value instead\n",
      "\n",
      "See the caveats in the documentation: http://pandas.pydata.org/pandas-docs/stable/indexing.html#indexing-view-versus-copy\n"
     ]
    },
    {
     "name": "stdout",
     "output_type": "stream",
     "text": [
      "2\n",
      "4\n",
      "7\n",
      "9\n",
      "10\n",
      "13\n",
      "15\n",
      "17\n",
      "20\n",
      "22\n",
      "24\n",
      "27\n",
      "29\n",
      "31\n",
      "34\n",
      "36\n",
      "38\n",
      "41\n",
      "43\n",
      "45\n",
      "48\n",
      "50\n",
      "52\n",
      "55\n",
      "57\n",
      "59\n",
      "62\n",
      "64\n",
      "66\n",
      "69\n",
      "71\n",
      "72\n",
      "74\n",
      "76\n",
      "77\n",
      "79\n",
      "82\n",
      "86\n",
      "88\n"
     ]
    }
   ],
   "source": [
    "for participant in participants:\n",
    "    print(participant)\n",
    "    filename = 'cleaned_' + str(participant) + '.csv'\n",
    "    fullname = '/home/wangmk/UM/Research/SURE/cleaned_data/' + filename\n",
    "    sheet = book.parse(names[3*participant])\n",
    "    outcome = sheet.iloc[:,[4,6,8,12,15,16,17,18,19,20,21]]\n",
    "    outcome.columns = ['True_state','Alert','Identification','First_toggle_time','RMS','Attention','Click',\n",
    "                       'Top_Left_Enemy','Top_Right_Enemy','Bottom_Left_Enemy','Bottom_Right_Enemy']\n",
    "    \n",
    "    outcome['Top_Left_Dark'] = outcome['Top_Left_Enemy'].apply(encode_brightness)\n",
    "    outcome['Top_Right_Dark'] = outcome['Top_Right_Enemy'].apply(encode_brightness)\n",
    "    outcome['Bottom_Left_Dark'] = outcome['Bottom_Left_Enemy'].apply(encode_brightness)\n",
    "    outcome['Bottom_Right_Dark'] = outcome['Bottom_Right_Enemy'].apply(encode_brightness)\n",
    "    \n",
    "    outcome['Top_Left_Enemy'] = outcome['Top_Left_Enemy'].apply(detect)\n",
    "    outcome['Top_Right_Enemy'] = outcome['Top_Right_Enemy'].apply(detect)\n",
    "    outcome['Bottom_Left_Enemy'] = outcome['Bottom_Left_Enemy'].apply(detect)\n",
    "    outcome['Bottom_Right_Enemy'] = outcome['Bottom_Right_Enemy'].apply(detect)\n",
    "    \n",
    "    outcome['Top_Left_Dark'] = outcome['Top_Left_Dark'].astype('bool')\n",
    "    outcome['Top_Right_Dark'] = outcome['Top_Right_Dark'].astype('bool')\n",
    "    outcome['Bottom_Left_Dark'] = outcome['Bottom_Left_Dark'].astype('bool')\n",
    "    outcome['Bottom_Right_Dark'] = outcome['Bottom_Right_Dark'].astype('bool')\n",
    "    outcome.to_csv(fullname)"
   ]
  }
 ],
 "metadata": {
  "kernelspec": {
   "display_name": "Python 3",
   "language": "python",
   "name": "python3"
  },
  "language_info": {
   "codemirror_mode": {
    "name": "ipython",
    "version": 3
   },
   "file_extension": ".py",
   "mimetype": "text/x-python",
   "name": "python",
   "nbconvert_exporter": "python",
   "pygments_lexer": "ipython3",
   "version": "3.6.4"
  }
 },
 "nbformat": 4,
 "nbformat_minor": 2
}

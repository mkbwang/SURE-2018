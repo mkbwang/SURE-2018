{
 "cells": [
  {
   "cell_type": "markdown",
   "metadata": {},
   "source": [
    "# Examining and Combining Cleaned Data\n",
    "Check the cleaned data done on 08/02 and combine them into a large dataset. "
   ]
  },
  {
   "cell_type": "code",
   "execution_count": 1,
   "metadata": {},
   "outputs": [],
   "source": [
    "import pandas as pd\n",
    "import os\n",
    "import numpy as np\n",
    "import matplotlib.pyplot as plt\n",
    "import seaborn as sns"
   ]
  },
  {
   "cell_type": "code",
   "execution_count": 18,
   "metadata": {},
   "outputs": [],
   "source": [
    "from sklearn.cluster import KMeans"
   ]
  },
  {
   "cell_type": "code",
   "execution_count": 146,
   "metadata": {},
   "outputs": [],
   "source": [
    "from sklearn.metrics import roc_auc_score\n",
    "from sklearn.model_selection import cross_val_score\n",
    "from sklearn.metrics import classification_report,confusion_matrix\n",
    "from sklearn.model_selection import train_test_split\n",
    "from sklearn.linear_model import LogisticRegression\n",
    "from sklearn.metrics import roc_curve"
   ]
  },
  {
   "cell_type": "code",
   "execution_count": 118,
   "metadata": {},
   "outputs": [],
   "source": [
    "files = os.listdir('/home/wangmk/UM/Research/SURE/cleaned_data')"
   ]
  },
  {
   "cell_type": "code",
   "execution_count": 17,
   "metadata": {
    "collapsed": true
   },
   "outputs": [
    {
     "name": "stdout",
     "output_type": "stream",
     "text": [
      "cleaned_59.csv :  83\n",
      "cleaned_50.csv :  68\n",
      "cleaned_45.csv :  56\n",
      "cleaned_4.csv :  67\n",
      "cleaned_27.csv :  67\n",
      "cleaned_71.csv :  80\n",
      "cleaned_15.csv :  95\n",
      "cleaned_31.csv :  75\n",
      "cleaned_17.csv :  67\n",
      "cleaned_36.csv :  84\n",
      "cleaned_74.csv :  69\n",
      "cleaned_38.csv :  75\n",
      "cleaned_41.csv :  77\n",
      "cleaned_79.csv :  79\n",
      "cleaned_66.csv :  57\n",
      "cleaned_52.csv :  71\n",
      "cleaned_55.csv :  83\n",
      "cleaned_22.csv :  68\n",
      "cleaned_10.csv :  78\n",
      "cleaned_24.csv :  81\n",
      "cleaned_82.csv :  86\n",
      "cleaned_43.csv :  50\n",
      "cleaned_48.csv :  57\n",
      "cleaned_76.csv :  65\n",
      "cleaned_9.csv :  48\n",
      "cleaned_88.csv :  63\n",
      "cleaned_0.csv :  69\n",
      "cleaned_20.csv :  38\n",
      "cleaned_34.csv :  60\n",
      "cleaned_72.csv :  76\n",
      "cleaned_57.csv :  70\n",
      "cleaned_62.csv :  64\n",
      "cleaned_77.csv :  62\n",
      "cleaned_2.csv :  52\n",
      "cleaned_69.csv :  79\n",
      "cleaned_29.csv :  75\n",
      "cleaned_13.csv :  85\n",
      "cleaned_7.csv :  68\n",
      "cleaned_86.csv :  98\n"
     ]
    }
   ],
   "source": [
    "for file in files:\n",
    "    full_name = '/home/wangmk/UM/Research/SURE/cleaned_data/'+file\n",
    "    result = pd.read_csv(full_name)\n",
    "    positive = np.sum(result['performance'])\n",
    "    print(file,': ',positive)"
   ]
  },
  {
   "cell_type": "markdown",
   "metadata": {},
   "source": [
    "The rest of the code snippets are used to get rid of some extreme values in some people's feedback."
   ]
  },
  {
   "cell_type": "code",
   "execution_count": 22,
   "metadata": {},
   "outputs": [],
   "source": [
    "kmeans = KMeans(n_clusters=2)"
   ]
  },
  {
   "cell_type": "code",
   "execution_count": 90,
   "metadata": {},
   "outputs": [],
   "source": [
    "output = pd.read_csv('/home/wangmk/UM/Research/SURE/cleaned_data/cleaned_52.csv')"
   ]
  },
  {
   "cell_type": "code",
   "execution_count": 91,
   "metadata": {},
   "outputs": [],
   "source": [
    "output = output.drop(output['RMS'].idxmax())\n",
    "output = output.drop(output['RMS'].idxmax())"
   ]
  },
  {
   "cell_type": "code",
   "execution_count": 92,
   "metadata": {},
   "outputs": [
    {
     "data": {
      "text/plain": [
       "KMeans(algorithm='auto', copy_x=True, init='k-means++', max_iter=300,\n",
       "    n_clusters=2, n_init=10, n_jobs=1, precompute_distances='auto',\n",
       "    random_state=None, tol=0.0001, verbose=0)"
      ]
     },
     "execution_count": 92,
     "metadata": {},
     "output_type": "execute_result"
    }
   ],
   "source": [
    "kmeans.fit(output['RMS'].values.reshape(-1,1))"
   ]
  },
  {
   "cell_type": "code",
   "execution_count": 93,
   "metadata": {},
   "outputs": [],
   "source": [
    "output['performance'] = kmeans.predict(output['RMS'].values.reshape(-1,1))"
   ]
  },
  {
   "cell_type": "code",
   "execution_count": 94,
   "metadata": {},
   "outputs": [],
   "source": [
    "bad = output[output['performance']==0]\n",
    "good = output[output['performance']==1]"
   ]
  },
  {
   "cell_type": "code",
   "execution_count": 95,
   "metadata": {},
   "outputs": [
    {
     "name": "stdout",
     "output_type": "stream",
     "text": [
      "Total median is  38.322392518872746\n",
      "Total mean is  40.74455787705692\n"
     ]
    }
   ],
   "source": [
    "print('Total median is ',np.median(output['RMS']))\n",
    "print('Total mean is ',np.mean(output['RMS']))"
   ]
  },
  {
   "cell_type": "code",
   "execution_count": 96,
   "metadata": {},
   "outputs": [
    {
     "name": "stdout",
     "output_type": "stream",
     "text": [
      "33\n",
      "The mean is 57.038308619212486\n",
      "The median is 55.3357313679453\n",
      "The minimum is 45.41223117965961\n",
      "The maximum is 80.19951936110421\n"
     ]
    }
   ],
   "source": [
    "print(len(good))\n",
    "print('The mean is',np.mean(good['RMS']))\n",
    "print('The median is',np.median(good['RMS']))\n",
    "print('The minimum is',np.min(good['RMS']))\n",
    "print('The maximum is',np.max(good['RMS']))"
   ]
  },
  {
   "cell_type": "code",
   "execution_count": 97,
   "metadata": {},
   "outputs": [
    {
     "name": "stdout",
     "output_type": "stream",
     "text": [
      "65\n",
      "The mean is 32.47234596180869\n",
      "The median is 32.022685313459704\n",
      "The minimum is 15.629813116477699\n",
      "The maximum is 44.1664014161839\n"
     ]
    }
   ],
   "source": [
    "print(len(bad))\n",
    "print('The mean is',np.mean(bad['RMS']))\n",
    "print('The median is',np.median(bad['RMS']))\n",
    "print('The minimum is',np.min(bad['RMS']))\n",
    "print('The maximum is',np.max(bad['RMS']))"
   ]
  },
  {
   "cell_type": "code",
   "execution_count": 71,
   "metadata": {},
   "outputs": [],
   "source": [
    "output['performance'] = 1 - output['performance']"
   ]
  },
  {
   "cell_type": "code",
   "execution_count": 72,
   "metadata": {},
   "outputs": [],
   "source": [
    "output['performance'] = output['performance'].astype('bool')"
   ]
  },
  {
   "cell_type": "code",
   "execution_count": 73,
   "metadata": {},
   "outputs": [],
   "source": [
    "output.to_csv(\"/home/wangmk/UM/Research/SURE/cleaned_data/cleaned_59.csv\")"
   ]
  },
  {
   "cell_type": "markdown",
   "metadata": {},
   "source": [
    "Now I combine the datasets together. I have a full set and a reduced set. The reduced set doesn't contain the people that I feel are doing consistently well throughout the whole process."
   ]
  },
  {
   "cell_type": "markdown",
   "metadata": {},
   "source": [
    "First uniform all the columns of the datasets."
   ]
  },
  {
   "cell_type": "code",
   "execution_count": 119,
   "metadata": {},
   "outputs": [],
   "source": [
    "for file in files:\n",
    "    df = pd.read_csv('/home/wangmk/UM/Research/SURE/cleaned_data/'+file)\n",
    "    df.columns = ['Trial','True_state','Alert','Identification','First_toggle_time','RMS','Attention','Click','performance']\n",
    "    df.to_csv('/home/wangmk/UM/Research/SURE/cleaned_data/'+file, index=False)"
   ]
  },
  {
   "cell_type": "code",
   "execution_count": 120,
   "metadata": {},
   "outputs": [],
   "source": [
    "fullstack = pd.DataFrame(columns=['Trial','True_state','Alert','Identification','First_toggle_time','RMS','Attention','Click','performance'])"
   ]
  },
  {
   "cell_type": "code",
   "execution_count": 121,
   "metadata": {},
   "outputs": [
    {
     "data": {
      "text/html": [
       "<div>\n",
       "<style scoped>\n",
       "    .dataframe tbody tr th:only-of-type {\n",
       "        vertical-align: middle;\n",
       "    }\n",
       "\n",
       "    .dataframe tbody tr th {\n",
       "        vertical-align: top;\n",
       "    }\n",
       "\n",
       "    .dataframe thead th {\n",
       "        text-align: right;\n",
       "    }\n",
       "</style>\n",
       "<table border=\"1\" class=\"dataframe\">\n",
       "  <thead>\n",
       "    <tr style=\"text-align: right;\">\n",
       "      <th></th>\n",
       "      <th>Trial</th>\n",
       "      <th>True_state</th>\n",
       "      <th>Alert</th>\n",
       "      <th>Identification</th>\n",
       "      <th>First_toggle_time</th>\n",
       "      <th>RMS</th>\n",
       "      <th>Attention</th>\n",
       "      <th>Click</th>\n",
       "      <th>performance</th>\n",
       "    </tr>\n",
       "  </thead>\n",
       "  <tbody>\n",
       "  </tbody>\n",
       "</table>\n",
       "</div>"
      ],
      "text/plain": [
       "Empty DataFrame\n",
       "Columns: [Trial, True_state, Alert, Identification, First_toggle_time, RMS, Attention, Click, performance]\n",
       "Index: []"
      ]
     },
     "execution_count": 121,
     "metadata": {},
     "output_type": "execute_result"
    }
   ],
   "source": [
    "fullstack.head()"
   ]
  },
  {
   "cell_type": "code",
   "execution_count": 122,
   "metadata": {},
   "outputs": [],
   "source": [
    "for file in files:\n",
    "    full_dir = \"/home/wangmk/UM/Research/SURE/cleaned_data/\" + file\n",
    "    df = pd.read_csv(full_dir)\n",
    "    fullstack = fullstack.append(df,ignore_index=True)"
   ]
  },
  {
   "cell_type": "code",
   "execution_count": 123,
   "metadata": {},
   "outputs": [
    {
     "name": "stdout",
     "output_type": "stream",
     "text": [
      "<class 'pandas.core.frame.DataFrame'>\n",
      "RangeIndex: 3994 entries, 0 to 3993\n",
      "Data columns (total 9 columns):\n",
      "Trial                3994 non-null object\n",
      "True_state           3994 non-null object\n",
      "Alert                3994 non-null object\n",
      "Identification       3994 non-null object\n",
      "First_toggle_time    3994 non-null object\n",
      "RMS                  3994 non-null float64\n",
      "Attention            3994 non-null float64\n",
      "Click                3994 non-null object\n",
      "performance          3994 non-null object\n",
      "dtypes: float64(2), object(7)\n",
      "memory usage: 280.9+ KB\n"
     ]
    }
   ],
   "source": [
    "fullstack.info()"
   ]
  },
  {
   "cell_type": "code",
   "execution_count": 124,
   "metadata": {},
   "outputs": [],
   "source": [
    "fullstack[['Trial','Click']] = fullstack[['Trial','Click']].astype(int)"
   ]
  },
  {
   "cell_type": "code",
   "execution_count": 125,
   "metadata": {},
   "outputs": [
    {
     "data": {
      "text/html": [
       "<div>\n",
       "<style scoped>\n",
       "    .dataframe tbody tr th:only-of-type {\n",
       "        vertical-align: middle;\n",
       "    }\n",
       "\n",
       "    .dataframe tbody tr th {\n",
       "        vertical-align: top;\n",
       "    }\n",
       "\n",
       "    .dataframe thead th {\n",
       "        text-align: right;\n",
       "    }\n",
       "</style>\n",
       "<table border=\"1\" class=\"dataframe\">\n",
       "  <thead>\n",
       "    <tr style=\"text-align: right;\">\n",
       "      <th></th>\n",
       "      <th>Trial</th>\n",
       "      <th>True_state</th>\n",
       "      <th>Alert</th>\n",
       "      <th>Identification</th>\n",
       "      <th>First_toggle_time</th>\n",
       "      <th>RMS</th>\n",
       "      <th>Attention</th>\n",
       "      <th>Click</th>\n",
       "      <th>performance</th>\n",
       "    </tr>\n",
       "  </thead>\n",
       "  <tbody>\n",
       "    <tr>\n",
       "      <th>0</th>\n",
       "      <td>0</td>\n",
       "      <td>False</td>\n",
       "      <td>CLEAR</td>\n",
       "      <td>False</td>\n",
       "      <td>1611</td>\n",
       "      <td>67.992687</td>\n",
       "      <td>0.819095</td>\n",
       "      <td>2</td>\n",
       "      <td>False</td>\n",
       "    </tr>\n",
       "    <tr>\n",
       "      <th>1</th>\n",
       "      <td>1</td>\n",
       "      <td>False</td>\n",
       "      <td>CLEAR</td>\n",
       "      <td>False</td>\n",
       "      <td>778</td>\n",
       "      <td>28.956303</td>\n",
       "      <td>0.844221</td>\n",
       "      <td>2</td>\n",
       "      <td>True</td>\n",
       "    </tr>\n",
       "    <tr>\n",
       "      <th>2</th>\n",
       "      <td>3</td>\n",
       "      <td>False</td>\n",
       "      <td>CLEAR</td>\n",
       "      <td>False</td>\n",
       "      <td>388</td>\n",
       "      <td>48.778770</td>\n",
       "      <td>0.800000</td>\n",
       "      <td>2</td>\n",
       "      <td>False</td>\n",
       "    </tr>\n",
       "    <tr>\n",
       "      <th>3</th>\n",
       "      <td>4</td>\n",
       "      <td>False</td>\n",
       "      <td>CLEAR</td>\n",
       "      <td>False</td>\n",
       "      <td>946</td>\n",
       "      <td>46.872848</td>\n",
       "      <td>0.805970</td>\n",
       "      <td>2</td>\n",
       "      <td>False</td>\n",
       "    </tr>\n",
       "    <tr>\n",
       "      <th>4</th>\n",
       "      <td>5</td>\n",
       "      <td>False</td>\n",
       "      <td>CLEAR</td>\n",
       "      <td>True</td>\n",
       "      <td>-1</td>\n",
       "      <td>54.695426</td>\n",
       "      <td>1.000000</td>\n",
       "      <td>0</td>\n",
       "      <td>False</td>\n",
       "    </tr>\n",
       "  </tbody>\n",
       "</table>\n",
       "</div>"
      ],
      "text/plain": [
       "   Trial True_state  Alert Identification First_toggle_time        RMS  \\\n",
       "0      0      False  CLEAR          False              1611  67.992687   \n",
       "1      1      False  CLEAR          False               778  28.956303   \n",
       "2      3      False  CLEAR          False               388  48.778770   \n",
       "3      4      False  CLEAR          False               946  46.872848   \n",
       "4      5      False  CLEAR           True                -1  54.695426   \n",
       "\n",
       "   Attention  Click performance  \n",
       "0   0.819095      2       False  \n",
       "1   0.844221      2        True  \n",
       "2   0.800000      2       False  \n",
       "3   0.805970      2       False  \n",
       "4   1.000000      0       False  "
      ]
     },
     "execution_count": 125,
     "metadata": {},
     "output_type": "execute_result"
    }
   ],
   "source": [
    "fullstack.head()"
   ]
  },
  {
   "cell_type": "code",
   "execution_count": 126,
   "metadata": {},
   "outputs": [],
   "source": [
    "fullstack[['True_state','Alert','Identification','performance']] = fullstack[['True_state','Alert','Identification','performance']].astype(bool)"
   ]
  },
  {
   "cell_type": "code",
   "execution_count": 128,
   "metadata": {},
   "outputs": [],
   "source": [
    "fullstack['Alert'] = 1-fullstack['Alert']"
   ]
  },
  {
   "cell_type": "code",
   "execution_count": 130,
   "metadata": {},
   "outputs": [],
   "source": [
    "fullstack['Alert'] = fullstack['Alert'].astype(bool)"
   ]
  },
  {
   "cell_type": "code",
   "execution_count": 133,
   "metadata": {},
   "outputs": [],
   "source": [
    "fullstack['First_toggle_time'] = fullstack['First_toggle_time'].astype(float)"
   ]
  },
  {
   "cell_type": "code",
   "execution_count": 155,
   "metadata": {},
   "outputs": [],
   "source": [
    "fullstack['Agree'] = 1 - fullstack['True_state'] ^ fullstack['Alert']\n",
    "fullstack['Agree'] = fullstack['Agree'].astype(bool)"
   ]
  },
  {
   "cell_type": "code",
   "execution_count": 156,
   "metadata": {},
   "outputs": [
    {
     "name": "stdout",
     "output_type": "stream",
     "text": [
      "<class 'pandas.core.frame.DataFrame'>\n",
      "RangeIndex: 3994 entries, 0 to 3993\n",
      "Data columns (total 10 columns):\n",
      "Trial                3994 non-null int64\n",
      "True_state           3994 non-null bool\n",
      "Alert                3994 non-null bool\n",
      "Identification       3994 non-null bool\n",
      "First_toggle_time    3994 non-null float64\n",
      "RMS                  3994 non-null float64\n",
      "Attention            3994 non-null float64\n",
      "Click                3994 non-null int64\n",
      "performance          3994 non-null bool\n",
      "Agree                3994 non-null bool\n",
      "dtypes: bool(5), float64(3), int64(2)\n",
      "memory usage: 175.6 KB\n"
     ]
    }
   ],
   "source": [
    "fullstack.info()"
   ]
  },
  {
   "cell_type": "code",
   "execution_count": 135,
   "metadata": {},
   "outputs": [],
   "source": [
    "fullstack.to_csv('/home/wangmk/UM/Research/SURE/cleaned_data/full_cleaned_data.csv',index=False)"
   ]
  },
  {
   "cell_type": "markdown",
   "metadata": {},
   "source": [
    "Try logistic regression on the big dataset."
   ]
  },
  {
   "cell_type": "code",
   "execution_count": 159,
   "metadata": {},
   "outputs": [],
   "source": [
    "X = fullstack.drop(['RMS','First_toggle_time','performance'],axis=1)\n",
    "y = fullstack['performance']"
   ]
  },
  {
   "cell_type": "code",
   "execution_count": 160,
   "metadata": {},
   "outputs": [],
   "source": [
    "X_train, X_test, y_train, y_test = train_test_split(X,y, test_size = 0.3, random_state=42,stratify=y)"
   ]
  },
  {
   "cell_type": "code",
   "execution_count": 161,
   "metadata": {},
   "outputs": [],
   "source": [
    "logreg = LogisticRegression()"
   ]
  },
  {
   "cell_type": "code",
   "execution_count": 162,
   "metadata": {},
   "outputs": [
    {
     "data": {
      "text/plain": [
       "LogisticRegression(C=1.0, class_weight=None, dual=False, fit_intercept=True,\n",
       "          intercept_scaling=1, max_iter=100, multi_class='ovr', n_jobs=1,\n",
       "          penalty='l2', random_state=None, solver='liblinear', tol=0.0001,\n",
       "          verbose=0, warm_start=False)"
      ]
     },
     "execution_count": 162,
     "metadata": {},
     "output_type": "execute_result"
    }
   ],
   "source": [
    "logreg.fit(X_train,y_train)"
   ]
  },
  {
   "cell_type": "code",
   "execution_count": 163,
   "metadata": {},
   "outputs": [],
   "source": [
    "y_pred = logreg.predict(X_test)"
   ]
  },
  {
   "cell_type": "code",
   "execution_count": 164,
   "metadata": {},
   "outputs": [
    {
     "name": "stdout",
     "output_type": "stream",
     "text": [
      "[[ 75 315]\n",
      " [ 59 750]]\n"
     ]
    }
   ],
   "source": [
    "print(confusion_matrix(y_test, y_pred))"
   ]
  },
  {
   "cell_type": "code",
   "execution_count": 165,
   "metadata": {},
   "outputs": [
    {
     "name": "stdout",
     "output_type": "stream",
     "text": [
      "             precision    recall  f1-score   support\n",
      "\n",
      "      False       0.56      0.19      0.29       390\n",
      "       True       0.70      0.93      0.80       809\n",
      "\n",
      "avg / total       0.66      0.69      0.63      1199\n",
      "\n"
     ]
    }
   ],
   "source": [
    "print(classification_report(y_test, y_pred))"
   ]
  },
  {
   "cell_type": "code",
   "execution_count": 166,
   "metadata": {
    "scrolled": true
   },
   "outputs": [
    {
     "data": {
      "text/plain": [
       "0.6745117676514772"
      ]
     },
     "execution_count": 166,
     "metadata": {},
     "output_type": "execute_result"
    }
   ],
   "source": [
    "np.sum(fullstack['performance'])/3994"
   ]
  },
  {
   "cell_type": "markdown",
   "metadata": {},
   "source": [
    "Outcome is no better than merely guessing:(."
   ]
  },
  {
   "cell_type": "code",
   "execution_count": 167,
   "metadata": {},
   "outputs": [],
   "source": [
    "y_pred_prob = logreg.predict_proba(X_test)[:,1]\n",
    "fpr, tpr, thresholds = roc_curve(y_test, y_pred_prob)"
   ]
  },
  {
   "cell_type": "code",
   "execution_count": 168,
   "metadata": {},
   "outputs": [
    {
     "data": {
      "image/png": "[encoded data removed]",
      "text/plain": [
       "<matplotlib.figure.Figure at 0x7f47fc2d9278>"
      ]
     },
     "metadata": {},
     "output_type": "display_data"
    }
   ],
   "source": [
    "sns.set()\n",
    "plt.plot([0, 1], [0, 1], 'k--')\n",
    "plt.plot(fpr, tpr)\n",
    "plt.xlabel('False Positive Rate')\n",
    "plt.ylabel('True Positive Rate')\n",
    "plt.title('ROC Curve')\n",
    "plt.show()"
   ]
  },
  {
   "cell_type": "code",
   "execution_count": 169,
   "metadata": {},
   "outputs": [
    {
     "name": "stdout",
     "output_type": "stream",
     "text": [
      "AUC: 0.6909780989509049\n"
     ]
    }
   ],
   "source": [
    "print(\"AUC: {}\".format(roc_auc_score(y_test,y_pred_prob)))"
   ]
  },
  {
   "cell_type": "markdown",
   "metadata": {},
   "source": [
    "Get rid of those people that are doing very well. See if there could be improvements."
   ]
  },
  {
   "cell_type": "code",
   "execution_count": 170,
   "metadata": {},
   "outputs": [],
   "source": [
    "subset = [0,4,7,10,13,15,22,27,29,31,34,36,38,41,45,48,50,52,55,59,62,\n",
    "                64,66,69,71,72,74,79,82,86,88]"
   ]
  },
  {
   "cell_type": "code",
   "execution_count": 187,
   "metadata": {},
   "outputs": [],
   "source": [
    "substack = pd.DataFrame(columns=['Trial','True_state','Alert','Identification','First_toggle_time','RMS','Attention','Click','performance'])"
   ]
  },
  {
   "cell_type": "code",
   "execution_count": 188,
   "metadata": {},
   "outputs": [],
   "source": [
    "for person in subset:\n",
    "    full_dir = \"/home/wangmk/UM/Research/SURE/cleaned_data/cleaned_\" + str(person) + '.csv'\n",
    "    df = pd.read_csv(full_dir)\n",
    "    substack = substack.append(df,ignore_index=True)"
   ]
  },
  {
   "cell_type": "code",
   "execution_count": 189,
   "metadata": {},
   "outputs": [],
   "source": [
    "def mapping(alert):\n",
    "    if alert=='DANGER':\n",
    "        return True\n",
    "    else:\n",
    "        return False"
   ]
  },
  {
   "cell_type": "code",
   "execution_count": 191,
   "metadata": {},
   "outputs": [],
   "source": [
    "substack[['True_state','Identification','performance']] = substack[['True_state','Identification','performance']].astype(bool)"
   ]
  },
  {
   "cell_type": "code",
   "execution_count": 194,
   "metadata": {},
   "outputs": [],
   "source": [
    "substack['Alert'] = substack['Alert'].apply(mapping)"
   ]
  },
  {
   "cell_type": "code",
   "execution_count": 195,
   "metadata": {
    "collapsed": true
   },
   "outputs": [
    {
     "data": {
      "text/html": [
       "<div>\n",
       "<style scoped>\n",
       "    .dataframe tbody tr th:only-of-type {\n",
       "        vertical-align: middle;\n",
       "    }\n",
       "\n",
       "    .dataframe tbody tr th {\n",
       "        vertical-align: top;\n",
       "    }\n",
       "\n",
       "    .dataframe thead th {\n",
       "        text-align: right;\n",
       "    }\n",
       "</style>\n",
       "<table border=\"1\" class=\"dataframe\">\n",
       "  <thead>\n",
       "    <tr style=\"text-align: right;\">\n",
       "      <th></th>\n",
       "      <th>Trial</th>\n",
       "      <th>True_state</th>\n",
       "      <th>Alert</th>\n",
       "      <th>Identification</th>\n",
       "      <th>First_toggle_time</th>\n",
       "      <th>RMS</th>\n",
       "      <th>Attention</th>\n",
       "      <th>Click</th>\n",
       "      <th>performance</th>\n",
       "    </tr>\n",
       "  </thead>\n",
       "  <tbody>\n",
       "    <tr>\n",
       "      <th>0</th>\n",
       "      <td>0</td>\n",
       "      <td>True</td>\n",
       "      <td>True</td>\n",
       "      <td>True</td>\n",
       "      <td>4179</td>\n",
       "      <td>65.244487</td>\n",
       "      <td>0.914573</td>\n",
       "      <td>2</td>\n",
       "      <td>False</td>\n",
       "    </tr>\n",
       "    <tr>\n",
       "      <th>1</th>\n",
       "      <td>1</td>\n",
       "      <td>False</td>\n",
       "      <td>False</td>\n",
       "      <td>False</td>\n",
       "      <td>3653</td>\n",
       "      <td>67.293907</td>\n",
       "      <td>0.895000</td>\n",
       "      <td>2</td>\n",
       "      <td>False</td>\n",
       "    </tr>\n",
       "    <tr>\n",
       "      <th>2</th>\n",
       "      <td>2</td>\n",
       "      <td>False</td>\n",
       "      <td>True</td>\n",
       "      <td>False</td>\n",
       "      <td>2186</td>\n",
       "      <td>100.119892</td>\n",
       "      <td>0.854271</td>\n",
       "      <td>2</td>\n",
       "      <td>False</td>\n",
       "    </tr>\n",
       "    <tr>\n",
       "      <th>3</th>\n",
       "      <td>3</td>\n",
       "      <td>False</td>\n",
       "      <td>False</td>\n",
       "      <td>False</td>\n",
       "      <td>3412</td>\n",
       "      <td>33.403009</td>\n",
       "      <td>0.889447</td>\n",
       "      <td>2</td>\n",
       "      <td>True</td>\n",
       "    </tr>\n",
       "    <tr>\n",
       "      <th>4</th>\n",
       "      <td>4</td>\n",
       "      <td>False</td>\n",
       "      <td>False</td>\n",
       "      <td>False</td>\n",
       "      <td>4514</td>\n",
       "      <td>70.063858</td>\n",
       "      <td>0.929648</td>\n",
       "      <td>2</td>\n",
       "      <td>False</td>\n",
       "    </tr>\n",
       "    <tr>\n",
       "      <th>5</th>\n",
       "      <td>5</td>\n",
       "      <td>True</td>\n",
       "      <td>False</td>\n",
       "      <td>True</td>\n",
       "      <td>8141</td>\n",
       "      <td>27.348088</td>\n",
       "      <td>0.920000</td>\n",
       "      <td>2</td>\n",
       "      <td>True</td>\n",
       "    </tr>\n",
       "    <tr>\n",
       "      <th>6</th>\n",
       "      <td>6</td>\n",
       "      <td>False</td>\n",
       "      <td>True</td>\n",
       "      <td>False</td>\n",
       "      <td>994</td>\n",
       "      <td>28.984222</td>\n",
       "      <td>0.909548</td>\n",
       "      <td>2</td>\n",
       "      <td>True</td>\n",
       "    </tr>\n",
       "    <tr>\n",
       "      <th>7</th>\n",
       "      <td>7</td>\n",
       "      <td>False</td>\n",
       "      <td>False</td>\n",
       "      <td>False</td>\n",
       "      <td>6131</td>\n",
       "      <td>38.653724</td>\n",
       "      <td>0.904523</td>\n",
       "      <td>2</td>\n",
       "      <td>True</td>\n",
       "    </tr>\n",
       "    <tr>\n",
       "      <th>8</th>\n",
       "      <td>8</td>\n",
       "      <td>True</td>\n",
       "      <td>False</td>\n",
       "      <td>True</td>\n",
       "      <td>928</td>\n",
       "      <td>38.260605</td>\n",
       "      <td>0.920398</td>\n",
       "      <td>2</td>\n",
       "      <td>True</td>\n",
       "    </tr>\n",
       "    <tr>\n",
       "      <th>9</th>\n",
       "      <td>9</td>\n",
       "      <td>True</td>\n",
       "      <td>False</td>\n",
       "      <td>True</td>\n",
       "      <td>1958</td>\n",
       "      <td>48.263854</td>\n",
       "      <td>0.934343</td>\n",
       "      <td>2</td>\n",
       "      <td>True</td>\n",
       "    </tr>\n",
       "    <tr>\n",
       "      <th>10</th>\n",
       "      <td>10</td>\n",
       "      <td>False</td>\n",
       "      <td>False</td>\n",
       "      <td>False</td>\n",
       "      <td>2914</td>\n",
       "      <td>68.736136</td>\n",
       "      <td>0.855721</td>\n",
       "      <td>4</td>\n",
       "      <td>False</td>\n",
       "    </tr>\n",
       "    <tr>\n",
       "      <th>11</th>\n",
       "      <td>11</td>\n",
       "      <td>True</td>\n",
       "      <td>False</td>\n",
       "      <td>True</td>\n",
       "      <td>3509</td>\n",
       "      <td>66.012574</td>\n",
       "      <td>0.854271</td>\n",
       "      <td>2</td>\n",
       "      <td>False</td>\n",
       "    </tr>\n",
       "    <tr>\n",
       "      <th>12</th>\n",
       "      <td>12</td>\n",
       "      <td>False</td>\n",
       "      <td>False</td>\n",
       "      <td>False</td>\n",
       "      <td>1917</td>\n",
       "      <td>30.093402</td>\n",
       "      <td>0.909548</td>\n",
       "      <td>2</td>\n",
       "      <td>True</td>\n",
       "    </tr>\n",
       "    <tr>\n",
       "      <th>13</th>\n",
       "      <td>13</td>\n",
       "      <td>True</td>\n",
       "      <td>False</td>\n",
       "      <td>True</td>\n",
       "      <td>2983</td>\n",
       "      <td>57.359314</td>\n",
       "      <td>0.935000</td>\n",
       "      <td>2</td>\n",
       "      <td>False</td>\n",
       "    </tr>\n",
       "    <tr>\n",
       "      <th>14</th>\n",
       "      <td>14</td>\n",
       "      <td>True</td>\n",
       "      <td>False</td>\n",
       "      <td>True</td>\n",
       "      <td>1769</td>\n",
       "      <td>51.784926</td>\n",
       "      <td>0.798995</td>\n",
       "      <td>4</td>\n",
       "      <td>False</td>\n",
       "    </tr>\n",
       "    <tr>\n",
       "      <th>15</th>\n",
       "      <td>15</td>\n",
       "      <td>True</td>\n",
       "      <td>False</td>\n",
       "      <td>True</td>\n",
       "      <td>1615</td>\n",
       "      <td>72.571688</td>\n",
       "      <td>0.885000</td>\n",
       "      <td>2</td>\n",
       "      <td>False</td>\n",
       "    </tr>\n",
       "    <tr>\n",
       "      <th>16</th>\n",
       "      <td>16</td>\n",
       "      <td>True</td>\n",
       "      <td>False</td>\n",
       "      <td>True</td>\n",
       "      <td>4148</td>\n",
       "      <td>57.677892</td>\n",
       "      <td>0.924623</td>\n",
       "      <td>2</td>\n",
       "      <td>False</td>\n",
       "    </tr>\n",
       "    <tr>\n",
       "      <th>17</th>\n",
       "      <td>17</td>\n",
       "      <td>False</td>\n",
       "      <td>False</td>\n",
       "      <td>False</td>\n",
       "      <td>2151</td>\n",
       "      <td>51.127650</td>\n",
       "      <td>0.940299</td>\n",
       "      <td>2</td>\n",
       "      <td>False</td>\n",
       "    </tr>\n",
       "    <tr>\n",
       "      <th>18</th>\n",
       "      <td>18</td>\n",
       "      <td>False</td>\n",
       "      <td>False</td>\n",
       "      <td>False</td>\n",
       "      <td>2591</td>\n",
       "      <td>55.526615</td>\n",
       "      <td>0.905000</td>\n",
       "      <td>2</td>\n",
       "      <td>False</td>\n",
       "    </tr>\n",
       "    <tr>\n",
       "      <th>19</th>\n",
       "      <td>19</td>\n",
       "      <td>False</td>\n",
       "      <td>False</td>\n",
       "      <td>False</td>\n",
       "      <td>2421</td>\n",
       "      <td>35.168889</td>\n",
       "      <td>0.904523</td>\n",
       "      <td>2</td>\n",
       "      <td>True</td>\n",
       "    </tr>\n",
       "  </tbody>\n",
       "</table>\n",
       "</div>"
      ],
      "text/plain": [
       "   Trial  True_state  Alert  Identification First_toggle_time         RMS  \\\n",
       "0      0        True   True            True              4179   65.244487   \n",
       "1      1       False  False           False              3653   67.293907   \n",
       "2      2       False   True           False              2186  100.119892   \n",
       "3      3       False  False           False              3412   33.403009   \n",
       "4      4       False  False           False              4514   70.063858   \n",
       "5      5        True  False            True              8141   27.348088   \n",
       "6      6       False   True           False               994   28.984222   \n",
       "7      7       False  False           False              6131   38.653724   \n",
       "8      8        True  False            True               928   38.260605   \n",
       "9      9        True  False            True              1958   48.263854   \n",
       "10    10       False  False           False              2914   68.736136   \n",
       "11    11        True  False            True              3509   66.012574   \n",
       "12    12       False  False           False              1917   30.093402   \n",
       "13    13        True  False            True              2983   57.359314   \n",
       "14    14        True  False            True              1769   51.784926   \n",
       "15    15        True  False            True              1615   72.571688   \n",
       "16    16        True  False            True              4148   57.677892   \n",
       "17    17       False  False           False              2151   51.127650   \n",
       "18    18       False  False           False              2591   55.526615   \n",
       "19    19       False  False           False              2421   35.168889   \n",
       "\n",
       "    Attention Click  performance  \n",
       "0    0.914573     2        False  \n",
       "1    0.895000     2        False  \n",
       "2    0.854271     2        False  \n",
       "3    0.889447     2         True  \n",
       "4    0.929648     2        False  \n",
       "5    0.920000     2         True  \n",
       "6    0.909548     2         True  \n",
       "7    0.904523     2         True  \n",
       "8    0.920398     2         True  \n",
       "9    0.934343     2         True  \n",
       "10   0.855721     4        False  \n",
       "11   0.854271     2        False  \n",
       "12   0.909548     2         True  \n",
       "13   0.935000     2        False  \n",
       "14   0.798995     4        False  \n",
       "15   0.885000     2        False  \n",
       "16   0.924623     2        False  \n",
       "17   0.940299     2        False  \n",
       "18   0.905000     2        False  \n",
       "19   0.904523     2         True  "
      ]
     },
     "execution_count": 195,
     "metadata": {},
     "output_type": "execute_result"
    }
   ],
   "source": [
    "substack.head(20)"
   ]
  },
  {
   "cell_type": "code",
   "execution_count": 197,
   "metadata": {},
   "outputs": [],
   "source": [
    "substack['Agree'] = ~(substack['Alert'] ^ substack['True_state'])"
   ]
  },
  {
   "cell_type": "code",
   "execution_count": 199,
   "metadata": {},
   "outputs": [],
   "source": [
    "substack['First_toggle_time'] = substack['First_toggle_time'].astype(float)"
   ]
  },
  {
   "cell_type": "code",
   "execution_count": 202,
   "metadata": {},
   "outputs": [],
   "source": [
    "substack[['Trial','Click']] = substack[['Trial','Click']].astype(int)"
   ]
  },
  {
   "cell_type": "code",
   "execution_count": 203,
   "metadata": {},
   "outputs": [
    {
     "name": "stdout",
     "output_type": "stream",
     "text": [
      "<class 'pandas.core.frame.DataFrame'>\n",
      "RangeIndex: 3094 entries, 0 to 3093\n",
      "Data columns (total 10 columns):\n",
      "Trial                3094 non-null int64\n",
      "True_state           3094 non-null bool\n",
      "Alert                3094 non-null bool\n",
      "Identification       3094 non-null bool\n",
      "First_toggle_time    3094 non-null float64\n",
      "RMS                  3094 non-null float64\n",
      "Attention            3094 non-null float64\n",
      "Click                3094 non-null int64\n",
      "performance          3094 non-null bool\n",
      "Agree                3094 non-null bool\n",
      "dtypes: bool(5), float64(3), int64(2)\n",
      "memory usage: 136.0 KB\n"
     ]
    }
   ],
   "source": [
    "substack.info()"
   ]
  },
  {
   "cell_type": "code",
   "execution_count": 212,
   "metadata": {},
   "outputs": [],
   "source": [
    "X = substack.drop(['RMS','First_toggle_time','performance'],axis=1)\n",
    "y = substack['performance']"
   ]
  },
  {
   "cell_type": "code",
   "execution_count": 213,
   "metadata": {},
   "outputs": [],
   "source": [
    "X_train, X_test, y_train, y_test = train_test_split(X,y, test_size = 0.3, random_state=42,stratify=y)"
   ]
  },
  {
   "cell_type": "code",
   "execution_count": 214,
   "metadata": {},
   "outputs": [
    {
     "data": {
      "text/plain": [
       "LogisticRegression(C=1.0, class_weight=None, dual=False, fit_intercept=True,\n",
       "          intercept_scaling=1, max_iter=100, multi_class='ovr', n_jobs=1,\n",
       "          penalty='l2', random_state=None, solver='liblinear', tol=0.0001,\n",
       "          verbose=0, warm_start=False)"
      ]
     },
     "execution_count": 214,
     "metadata": {},
     "output_type": "execute_result"
    }
   ],
   "source": [
    "logreg.fit(X_train,y_train)"
   ]
  },
  {
   "cell_type": "code",
   "execution_count": 215,
   "metadata": {},
   "outputs": [],
   "source": [
    "y_pred = logreg.predict(X_test)"
   ]
  },
  {
   "cell_type": "code",
   "execution_count": 216,
   "metadata": {},
   "outputs": [
    {
     "name": "stdout",
     "output_type": "stream",
     "text": [
      "[[  8 272]\n",
      " [  3 646]]\n"
     ]
    }
   ],
   "source": [
    "print(confusion_matrix(y_test, y_pred))"
   ]
  },
  {
   "cell_type": "code",
   "execution_count": 217,
   "metadata": {},
   "outputs": [
    {
     "name": "stdout",
     "output_type": "stream",
     "text": [
      "             precision    recall  f1-score   support\n",
      "\n",
      "      False       0.73      0.03      0.05       280\n",
      "       True       0.70      1.00      0.82       649\n",
      "\n",
      "avg / total       0.71      0.70      0.59       929\n",
      "\n"
     ]
    }
   ],
   "source": [
    "print(classification_report(y_test, y_pred))"
   ]
  },
  {
   "cell_type": "code",
   "execution_count": 218,
   "metadata": {},
   "outputs": [
    {
     "data": {
      "text/plain": [
       "0.6984486102133161"
      ]
     },
     "execution_count": 218,
     "metadata": {},
     "output_type": "execute_result"
    }
   ],
   "source": [
    "sum(substack['performance'])/3094"
   ]
  },
  {
   "cell_type": "code",
   "execution_count": 211,
   "metadata": {},
   "outputs": [
    {
     "data": {
      "text/html": [
       "<div>\n",
       "<style scoped>\n",
       "    .dataframe tbody tr th:only-of-type {\n",
       "        vertical-align: middle;\n",
       "    }\n",
       "\n",
       "    .dataframe tbody tr th {\n",
       "        vertical-align: top;\n",
       "    }\n",
       "\n",
       "    .dataframe thead th {\n",
       "        text-align: right;\n",
       "    }\n",
       "</style>\n",
       "<table border=\"1\" class=\"dataframe\">\n",
       "  <thead>\n",
       "    <tr style=\"text-align: right;\">\n",
       "      <th></th>\n",
       "      <th>Trial</th>\n",
       "      <th>True_state</th>\n",
       "      <th>Alert</th>\n",
       "      <th>Identification</th>\n",
       "      <th>First_toggle_time</th>\n",
       "      <th>RMS</th>\n",
       "      <th>Attention</th>\n",
       "      <th>Click</th>\n",
       "      <th>performance</th>\n",
       "      <th>Agree</th>\n",
       "    </tr>\n",
       "  </thead>\n",
       "  <tbody>\n",
       "    <tr>\n",
       "      <th>0</th>\n",
       "      <td>0</td>\n",
       "      <td>True</td>\n",
       "      <td>True</td>\n",
       "      <td>True</td>\n",
       "      <td>4179.0</td>\n",
       "      <td>65.244487</td>\n",
       "      <td>0.914573</td>\n",
       "      <td>2</td>\n",
       "      <td>False</td>\n",
       "      <td>True</td>\n",
       "    </tr>\n",
       "    <tr>\n",
       "      <th>1</th>\n",
       "      <td>1</td>\n",
       "      <td>False</td>\n",
       "      <td>False</td>\n",
       "      <td>False</td>\n",
       "      <td>3653.0</td>\n",
       "      <td>67.293907</td>\n",
       "      <td>0.895000</td>\n",
       "      <td>2</td>\n",
       "      <td>False</td>\n",
       "      <td>True</td>\n",
       "    </tr>\n",
       "    <tr>\n",
       "      <th>2</th>\n",
       "      <td>2</td>\n",
       "      <td>False</td>\n",
       "      <td>True</td>\n",
       "      <td>False</td>\n",
       "      <td>2186.0</td>\n",
       "      <td>100.119892</td>\n",
       "      <td>0.854271</td>\n",
       "      <td>2</td>\n",
       "      <td>False</td>\n",
       "      <td>False</td>\n",
       "    </tr>\n",
       "    <tr>\n",
       "      <th>3</th>\n",
       "      <td>3</td>\n",
       "      <td>False</td>\n",
       "      <td>False</td>\n",
       "      <td>False</td>\n",
       "      <td>3412.0</td>\n",
       "      <td>33.403009</td>\n",
       "      <td>0.889447</td>\n",
       "      <td>2</td>\n",
       "      <td>True</td>\n",
       "      <td>True</td>\n",
       "    </tr>\n",
       "    <tr>\n",
       "      <th>4</th>\n",
       "      <td>4</td>\n",
       "      <td>False</td>\n",
       "      <td>False</td>\n",
       "      <td>False</td>\n",
       "      <td>4514.0</td>\n",
       "      <td>70.063858</td>\n",
       "      <td>0.929648</td>\n",
       "      <td>2</td>\n",
       "      <td>False</td>\n",
       "      <td>True</td>\n",
       "    </tr>\n",
       "  </tbody>\n",
       "</table>\n",
       "</div>"
      ],
      "text/plain": [
       "   Trial  True_state  Alert  Identification  First_toggle_time         RMS  \\\n",
       "0      0        True   True            True             4179.0   65.244487   \n",
       "1      1       False  False           False             3653.0   67.293907   \n",
       "2      2       False   True           False             2186.0  100.119892   \n",
       "3      3       False  False           False             3412.0   33.403009   \n",
       "4      4       False  False           False             4514.0   70.063858   \n",
       "\n",
       "   Attention  Click  performance  Agree  \n",
       "0   0.914573      2        False   True  \n",
       "1   0.895000      2        False   True  \n",
       "2   0.854271      2        False  False  \n",
       "3   0.889447      2         True   True  \n",
       "4   0.929648      2        False   True  "
      ]
     },
     "execution_count": 211,
     "metadata": {},
     "output_type": "execute_result"
    }
   ],
   "source": [
    "substack.head()"
   ]
  },
  {
   "cell_type": "code",
   "execution_count": 219,
   "metadata": {},
   "outputs": [],
   "source": [
    "y_pred_prob = logreg.predict_proba(X_test)[:,1]\n",
    "fpr, tpr, thresholds = roc_curve(y_test, y_pred_prob)"
   ]
  },
  {
   "cell_type": "code",
   "execution_count": 220,
   "metadata": {},
   "outputs": [
    {
     "data": {
      "image/png": "[encoded data removed]",
      "text/plain": [
       "<matplotlib.figure.Figure at 0x7f47fc1ba940>"
      ]
     },
     "metadata": {},
     "output_type": "display_data"
    }
   ],
   "source": [
    "sns.set()\n",
    "plt.plot([0, 1], [0, 1], 'k--')\n",
    "plt.plot(fpr, tpr)\n",
    "plt.xlabel('False Positive Rate')\n",
    "plt.ylabel('True Positive Rate')\n",
    "plt.title('ROC Curve')\n",
    "plt.show()"
   ]
  },
  {
   "cell_type": "code",
   "execution_count": null,
   "metadata": {},
   "outputs": [],
   "source": []
  }
 ],
 "metadata": {
  "kernelspec": {
   "display_name": "Python 3",
   "language": "python",
   "name": "python3"
  },
  "language_info": {
   "codemirror_mode": {
    "name": "ipython",
    "version": 3
   },
   "file_extension": ".py",
   "mimetype": "text/x-python",
   "name": "python",
   "nbconvert_exporter": "python",
   "pygments_lexer": "ipython3",
   "version": "3.6.4"
  }
 },
 "nbformat": 4,
 "nbformat_minor": 2
}

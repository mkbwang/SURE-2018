{
 "cells": [
  {
   "cell_type": "markdown",
   "metadata": {},
   "source": [
    "# Deal with Inconsistent sheet naming"
   ]
  },
  {
   "cell_type": "code",
   "execution_count": 1,
   "metadata": {},
   "outputs": [],
   "source": [
    "import openpyxl"
   ]
  },
  {
   "cell_type": "code",
   "execution_count": 2,
   "metadata": {},
   "outputs": [],
   "source": [
    "import pandas as pd"
   ]
  },
  {
   "cell_type": "code",
   "execution_count": null,
   "metadata": {},
   "outputs": [],
   "source": [
    "results = openpyxl.load_workbook('Clean_Results_macroenabled.xlsm')"
   ]
  },
  {
   "cell_type": "code",
   "execution_count": null,
   "metadata": {},
   "outputs": [],
   "source": [
    "names = results.get_sheet_names()"
   ]
  },
  {
   "cell_type": "code",
   "execution_count": null,
   "metadata": {},
   "outputs": [],
   "source": [
    "info = pd.DataFrame(columns=['Reliability','Alarm Type'])\n",
    "reliability = ['70','80','90']\n",
    "atype = ['bi','li','con'] "
   ]
  },
  {
   "cell_type": "code",
   "execution_count": null,
   "metadata": {},
   "outputs": [],
   "source": [
    "for number, name in enumerate(names,0):\n",
    "    sheet = results.get_sheet_by_name(name)\n",
    "    if number % 3 ==0 :\n",
    "        for system in reliability:\n",
    "            if name.find(system) != -1:\n",
    "                info.loc[number // 3, \"Reliability\"] = system\n",
    "                break\n",
    "        for alarm in atype:\n",
    "            if name.find(alarm) != -1:\n",
    "                info.loc[number // 3, \"Alarm Type\"] = alarm\n",
    "                break\n",
    "        sheet.title='_'.join([str(number // 3), 'output'])\n",
    "    elif number % 3 == 1:\n",
    "        sheet.title = '_'.join([str(number // 3), 'trust'])\n",
    "    else:\n",
    "        sheet.title = '_'.join([str(number // 3), 'practice'])"
   ]
  },
  {
   "cell_type": "code",
   "execution_count": 13,
   "metadata": {},
   "outputs": [],
   "source": [
    "results.save('Results_modified.xlsx')"
   ]
  },
  {
   "cell_type": "code",
   "execution_count": 16,
   "metadata": {},
   "outputs": [],
   "source": [
    "info.to_csv('result_background.csv', encoding='utf-8')"
   ]
  },
  {
   "cell_type": "markdown",
   "metadata": {},
   "source": [
    "# Remove useless columns"
   ]
  },
  {
   "cell_type": "code",
   "execution_count": 1,
   "metadata": {},
   "outputs": [],
   "source": [
    "import xlrd\n",
    "import pandas as pd"
   ]
  },
  {
   "cell_type": "code",
   "execution_count": 3,
   "metadata": {},
   "outputs": [],
   "source": [
    "book = pd.ExcelFile('/home/wangmk/UM/Research/SURE/Results_modified.xlsx')"
   ]
  },
  {
   "cell_type": "code",
   "execution_count": 4,
   "metadata": {},
   "outputs": [],
   "source": [
    "names = book.sheet_names"
   ]
  },
  {
   "cell_type": "code",
   "execution_count": 5,
   "metadata": {},
   "outputs": [],
   "source": [
    "participants = [0,2,4,7,9,10,13,15,17,20,22,24,27,29,31,34,36,38,41,43,45,48,50,52,55,57,59,62,\n",
    "                64,66,69,71,72,74,76,77,79,82,86,88]"
   ]
  },
  {
   "cell_type": "code",
   "execution_count": 6,
   "metadata": {},
   "outputs": [],
   "source": [
    "for participant in participants:\n",
    "    filename = 'cleaned_' + str(participant) + '.csv'\n",
    "    fullname = '/home/wangmk/UM/Research/SURE/cleaned_data/' + filename\n",
    "    sheet = book.parse(names[3*participant])\n",
    "    outcome = sheet.iloc[:,[4,6,8,12,15,16,17]]\n",
    "    outcome.to_csv(fullname)"
   ]
  }
 ],
 "metadata": {
  "kernelspec": {
   "display_name": "Python 3",
   "language": "python",
   "name": "python3"
  },
  "language_info": {
   "codemirror_mode": {
    "name": "ipython",
    "version": 3
   },
   "file_extension": ".py",
   "mimetype": "text/x-python",
   "name": "python",
   "nbconvert_exporter": "python",
   "pygments_lexer": "ipython3",
   "version": "3.6.4"
  }
 },
 "nbformat": 4,
 "nbformat_minor": 2
}
